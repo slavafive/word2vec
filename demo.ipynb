{
 "cells": [
  {
   "cell_type": "markdown",
   "source": [
    "# Import"
   ],
   "metadata": {
    "collapsed": false
   }
  },
  {
   "cell_type": "code",
   "execution_count": 2,
   "outputs": [],
   "source": [
    "import pandas as pd\n",
    "import numpy as np\n",
    "import plotly.express as px\n",
    "from sklearn.manifold import TSNE\n",
    "import torch"
   ],
   "metadata": {
    "collapsed": false
   }
  },
  {
   "cell_type": "code",
   "execution_count": 3,
   "outputs": [],
   "source": [
    "from train import train\n",
    "from word2vec.utils import load_yaml"
   ],
   "metadata": {
    "collapsed": false
   }
  },
  {
   "cell_type": "markdown",
   "source": [
    "# Train model"
   ],
   "metadata": {
    "collapsed": false
   }
  },
  {
   "cell_type": "code",
   "execution_count": 4,
   "outputs": [
    {
     "data": {
      "text/plain": "{'model': 'CBOW',\n 'model_dir': 'artifacts',\n 'data_dir': 'data',\n 'epochs': 10,\n 'batch_size': 64,\n 'learning_rate': 0.05,\n 'checkpoint_frequency': 1,\n 'steps_train': 60,\n 'steps_val': 60,\n 'n_words': 4,\n 'min_word_frequency': 50,\n 'max_sequence_length': 256,\n 'embed_size': 50,\n 'embed_max_norm': 1}"
     },
     "execution_count": 4,
     "metadata": {},
     "output_type": "execute_result"
    }
   ],
   "source": [
    "config = load_yaml('config.yaml')\n",
    "config"
   ],
   "metadata": {
    "collapsed": false
   }
  },
  {
   "cell_type": "code",
   "execution_count": 5,
   "outputs": [
    {
     "name": "stdout",
     "output_type": "stream",
     "text": [
      "Vocabulary size: 4099\n",
      "Adjusting learning rate of group 0 to 5.0000e-02.\n",
      "Epoch 1 / 10. Train loss: 5.8727, Validation loss: 3.8772\n",
      "Adjusting learning rate of group 0 to 4.5000e-02.\n",
      "Epoch 2 / 10. Train loss: 5.4055, Validation loss: 3.8699\n",
      "Adjusting learning rate of group 0 to 4.0000e-02.\n",
      "Epoch 3 / 10. Train loss: 5.2783, Validation loss: 3.9240\n",
      "Adjusting learning rate of group 0 to 3.5000e-02.\n",
      "Epoch 4 / 10. Train loss: 5.2126, Validation loss: 3.9753\n",
      "Adjusting learning rate of group 0 to 3.0000e-02.\n",
      "Epoch 5 / 10. Train loss: 5.1678, Validation loss: 3.9251\n",
      "Adjusting learning rate of group 0 to 2.5000e-02.\n",
      "Epoch 6 / 10. Train loss: 5.1175, Validation loss: 3.9390\n",
      "Adjusting learning rate of group 0 to 2.0000e-02.\n",
      "Epoch 7 / 10. Train loss: 5.0875, Validation loss: 3.9312\n",
      "Adjusting learning rate of group 0 to 1.5000e-02.\n",
      "Epoch 8 / 10. Train loss: 5.0409, Validation loss: 3.9930\n",
      "Adjusting learning rate of group 0 to 1.0000e-02.\n",
      "Epoch 9 / 10. Train loss: 5.0002, Validation loss: 3.9989\n",
      "Adjusting learning rate of group 0 to 5.0000e-03.\n",
      "Epoch 10 / 10. Train loss: 4.9842, Validation loss: 3.9871\n",
      "Adjusting learning rate of group 0 to 0.0000e+00.\n",
      "Model artifacts are saved to folder: artifacts\n"
     ]
    }
   ],
   "source": [
    "train(config)"
   ],
   "metadata": {
    "collapsed": false
   }
  },
  {
   "cell_type": "markdown",
   "source": [
    "# Demo"
   ],
   "metadata": {
    "collapsed": false
   }
  },
  {
   "cell_type": "code",
   "execution_count": 6,
   "outputs": [],
   "source": [
    "device = torch.device('cuda' if torch.cuda.is_available() else 'cpu')\n",
    "model = torch.load(f\"{config['model_dir']}/model.pt\", map_location=device)\n",
    "vocab = torch.load(f\"{config['model_dir']}/vocab.pt\")"
   ],
   "metadata": {
    "collapsed": false
   }
  },
  {
   "cell_type": "code",
   "execution_count": 7,
   "outputs": [
    {
     "data": {
      "text/plain": "CBOW(\n  (embeddings): Embedding(4099, 50, max_norm=1)\n  (linear): Linear(in_features=50, out_features=4099, bias=True)\n)"
     },
     "execution_count": 7,
     "metadata": {},
     "output_type": "execute_result"
    }
   ],
   "source": [
    "model"
   ],
   "metadata": {
    "collapsed": false
   }
  },
  {
   "cell_type": "code",
   "execution_count": 8,
   "outputs": [
    {
     "data": {
      "text/plain": "            0         1         2         3         4         5         6   \\\n0     0.000579  0.074418  0.147624  0.065660 -0.049540  0.116364  0.211759   \n1     0.096340  0.090729 -0.053377  0.066608 -0.283814  0.113487 -0.086393   \n2    -0.040920 -0.020283  0.006201  0.101501  0.333140 -0.056435  0.103615   \n3     0.226830  0.074295  0.016519  0.150539  0.274640  0.034020  0.047728   \n4     0.075703  0.035119  0.113515  0.152397  0.249103  0.073610  0.157959   \n...        ...       ...       ...       ...       ...       ...       ...   \n4094  0.086245  0.136938  0.135125  0.104863  0.244871 -0.085348  0.285394   \n4095  0.019155  0.088238  0.074970 -0.082796 -0.156666  0.126047  0.133371   \n4096  0.122592  0.145686  0.046430 -0.154911 -0.161012 -0.002371  0.069378   \n4097 -0.001457  0.027580  0.111501  0.030600 -0.051120  0.036001  0.132384   \n4098  0.001448  0.160208  0.172376  0.117948  0.018861  0.094835  0.260470   \n\n            7         8         9   ...        40        41        42  \\\n0     0.015510 -0.070899 -0.069466  ... -0.047297 -0.154251  0.113365   \n1    -0.285818 -0.141846  0.046376  ... -0.017125 -0.126061 -0.224858   \n2     0.190687 -0.068326  0.069308  ... -0.079025 -0.256366 -0.206165   \n3     0.269956  0.050331  0.225864  ...  0.014992 -0.111618  0.114063   \n4    -0.030533  0.126269  0.227408  ... -0.148045 -0.005974  0.213000   \n...        ...       ...       ...  ...       ...       ...       ...   \n4094  0.035199 -0.049950  0.122726  ... -0.202779  0.005533  0.100520   \n4095  0.026874 -0.056753 -0.118710  ... -0.019874 -0.083749  0.040024   \n4096  0.133784 -0.091619 -0.122243  ...  0.045587  0.049309 -0.182077   \n4097  0.058927 -0.143698 -0.018530  ... -0.066456 -0.158292  0.116807   \n4098 -0.158804  0.012249  0.009459  ... -0.133639 -0.141140  0.186745   \n\n            43        44        45        46        47        48        49  \n0     0.097166 -0.288124 -0.102232 -0.097474 -0.182347  0.180586  0.070746  \n1     0.149425 -0.049315 -0.046874  0.082443  0.065943  0.006308 -0.185886  \n2     0.086232 -0.120812 -0.144534  0.088946 -0.221591 -0.317499  0.092255  \n3     0.033514  0.077608 -0.121704  0.134801 -0.212910 -0.283753 -0.024760  \n4    -0.045665  0.126412 -0.049099 -0.146071 -0.032726  0.223849  0.142328  \n...        ...       ...       ...       ...       ...       ...       ...  \n4094 -0.022237 -0.004941 -0.064221 -0.281689  0.139486 -0.010553  0.074286  \n4095  0.102385 -0.085964 -0.050792 -0.101137 -0.266856  0.389514 -0.032107  \n4096  0.093749 -0.047278 -0.012451  0.108881 -0.042897 -0.094294  0.237073  \n4097  0.083249 -0.136541 -0.074800 -0.113990 -0.218624  0.247066  0.109642  \n4098  0.048173 -0.166162 -0.075324 -0.267078 -0.034679  0.249095  0.087048  \n\n[4099 rows x 50 columns]",
      "text/html": "<div>\n<style scoped>\n    .dataframe tbody tr th:only-of-type {\n        vertical-align: middle;\n    }\n\n    .dataframe tbody tr th {\n        vertical-align: top;\n    }\n\n    .dataframe thead th {\n        text-align: right;\n    }\n</style>\n<table border=\"1\" class=\"dataframe\">\n  <thead>\n    <tr style=\"text-align: right;\">\n      <th></th>\n      <th>0</th>\n      <th>1</th>\n      <th>2</th>\n      <th>3</th>\n      <th>4</th>\n      <th>5</th>\n      <th>6</th>\n      <th>7</th>\n      <th>8</th>\n      <th>9</th>\n      <th>...</th>\n      <th>40</th>\n      <th>41</th>\n      <th>42</th>\n      <th>43</th>\n      <th>44</th>\n      <th>45</th>\n      <th>46</th>\n      <th>47</th>\n      <th>48</th>\n      <th>49</th>\n    </tr>\n  </thead>\n  <tbody>\n    <tr>\n      <th>0</th>\n      <td>0.000579</td>\n      <td>0.074418</td>\n      <td>0.147624</td>\n      <td>0.065660</td>\n      <td>-0.049540</td>\n      <td>0.116364</td>\n      <td>0.211759</td>\n      <td>0.015510</td>\n      <td>-0.070899</td>\n      <td>-0.069466</td>\n      <td>...</td>\n      <td>-0.047297</td>\n      <td>-0.154251</td>\n      <td>0.113365</td>\n      <td>0.097166</td>\n      <td>-0.288124</td>\n      <td>-0.102232</td>\n      <td>-0.097474</td>\n      <td>-0.182347</td>\n      <td>0.180586</td>\n      <td>0.070746</td>\n    </tr>\n    <tr>\n      <th>1</th>\n      <td>0.096340</td>\n      <td>0.090729</td>\n      <td>-0.053377</td>\n      <td>0.066608</td>\n      <td>-0.283814</td>\n      <td>0.113487</td>\n      <td>-0.086393</td>\n      <td>-0.285818</td>\n      <td>-0.141846</td>\n      <td>0.046376</td>\n      <td>...</td>\n      <td>-0.017125</td>\n      <td>-0.126061</td>\n      <td>-0.224858</td>\n      <td>0.149425</td>\n      <td>-0.049315</td>\n      <td>-0.046874</td>\n      <td>0.082443</td>\n      <td>0.065943</td>\n      <td>0.006308</td>\n      <td>-0.185886</td>\n    </tr>\n    <tr>\n      <th>2</th>\n      <td>-0.040920</td>\n      <td>-0.020283</td>\n      <td>0.006201</td>\n      <td>0.101501</td>\n      <td>0.333140</td>\n      <td>-0.056435</td>\n      <td>0.103615</td>\n      <td>0.190687</td>\n      <td>-0.068326</td>\n      <td>0.069308</td>\n      <td>...</td>\n      <td>-0.079025</td>\n      <td>-0.256366</td>\n      <td>-0.206165</td>\n      <td>0.086232</td>\n      <td>-0.120812</td>\n      <td>-0.144534</td>\n      <td>0.088946</td>\n      <td>-0.221591</td>\n      <td>-0.317499</td>\n      <td>0.092255</td>\n    </tr>\n    <tr>\n      <th>3</th>\n      <td>0.226830</td>\n      <td>0.074295</td>\n      <td>0.016519</td>\n      <td>0.150539</td>\n      <td>0.274640</td>\n      <td>0.034020</td>\n      <td>0.047728</td>\n      <td>0.269956</td>\n      <td>0.050331</td>\n      <td>0.225864</td>\n      <td>...</td>\n      <td>0.014992</td>\n      <td>-0.111618</td>\n      <td>0.114063</td>\n      <td>0.033514</td>\n      <td>0.077608</td>\n      <td>-0.121704</td>\n      <td>0.134801</td>\n      <td>-0.212910</td>\n      <td>-0.283753</td>\n      <td>-0.024760</td>\n    </tr>\n    <tr>\n      <th>4</th>\n      <td>0.075703</td>\n      <td>0.035119</td>\n      <td>0.113515</td>\n      <td>0.152397</td>\n      <td>0.249103</td>\n      <td>0.073610</td>\n      <td>0.157959</td>\n      <td>-0.030533</td>\n      <td>0.126269</td>\n      <td>0.227408</td>\n      <td>...</td>\n      <td>-0.148045</td>\n      <td>-0.005974</td>\n      <td>0.213000</td>\n      <td>-0.045665</td>\n      <td>0.126412</td>\n      <td>-0.049099</td>\n      <td>-0.146071</td>\n      <td>-0.032726</td>\n      <td>0.223849</td>\n      <td>0.142328</td>\n    </tr>\n    <tr>\n      <th>...</th>\n      <td>...</td>\n      <td>...</td>\n      <td>...</td>\n      <td>...</td>\n      <td>...</td>\n      <td>...</td>\n      <td>...</td>\n      <td>...</td>\n      <td>...</td>\n      <td>...</td>\n      <td>...</td>\n      <td>...</td>\n      <td>...</td>\n      <td>...</td>\n      <td>...</td>\n      <td>...</td>\n      <td>...</td>\n      <td>...</td>\n      <td>...</td>\n      <td>...</td>\n      <td>...</td>\n    </tr>\n    <tr>\n      <th>4094</th>\n      <td>0.086245</td>\n      <td>0.136938</td>\n      <td>0.135125</td>\n      <td>0.104863</td>\n      <td>0.244871</td>\n      <td>-0.085348</td>\n      <td>0.285394</td>\n      <td>0.035199</td>\n      <td>-0.049950</td>\n      <td>0.122726</td>\n      <td>...</td>\n      <td>-0.202779</td>\n      <td>0.005533</td>\n      <td>0.100520</td>\n      <td>-0.022237</td>\n      <td>-0.004941</td>\n      <td>-0.064221</td>\n      <td>-0.281689</td>\n      <td>0.139486</td>\n      <td>-0.010553</td>\n      <td>0.074286</td>\n    </tr>\n    <tr>\n      <th>4095</th>\n      <td>0.019155</td>\n      <td>0.088238</td>\n      <td>0.074970</td>\n      <td>-0.082796</td>\n      <td>-0.156666</td>\n      <td>0.126047</td>\n      <td>0.133371</td>\n      <td>0.026874</td>\n      <td>-0.056753</td>\n      <td>-0.118710</td>\n      <td>...</td>\n      <td>-0.019874</td>\n      <td>-0.083749</td>\n      <td>0.040024</td>\n      <td>0.102385</td>\n      <td>-0.085964</td>\n      <td>-0.050792</td>\n      <td>-0.101137</td>\n      <td>-0.266856</td>\n      <td>0.389514</td>\n      <td>-0.032107</td>\n    </tr>\n    <tr>\n      <th>4096</th>\n      <td>0.122592</td>\n      <td>0.145686</td>\n      <td>0.046430</td>\n      <td>-0.154911</td>\n      <td>-0.161012</td>\n      <td>-0.002371</td>\n      <td>0.069378</td>\n      <td>0.133784</td>\n      <td>-0.091619</td>\n      <td>-0.122243</td>\n      <td>...</td>\n      <td>0.045587</td>\n      <td>0.049309</td>\n      <td>-0.182077</td>\n      <td>0.093749</td>\n      <td>-0.047278</td>\n      <td>-0.012451</td>\n      <td>0.108881</td>\n      <td>-0.042897</td>\n      <td>-0.094294</td>\n      <td>0.237073</td>\n    </tr>\n    <tr>\n      <th>4097</th>\n      <td>-0.001457</td>\n      <td>0.027580</td>\n      <td>0.111501</td>\n      <td>0.030600</td>\n      <td>-0.051120</td>\n      <td>0.036001</td>\n      <td>0.132384</td>\n      <td>0.058927</td>\n      <td>-0.143698</td>\n      <td>-0.018530</td>\n      <td>...</td>\n      <td>-0.066456</td>\n      <td>-0.158292</td>\n      <td>0.116807</td>\n      <td>0.083249</td>\n      <td>-0.136541</td>\n      <td>-0.074800</td>\n      <td>-0.113990</td>\n      <td>-0.218624</td>\n      <td>0.247066</td>\n      <td>0.109642</td>\n    </tr>\n    <tr>\n      <th>4098</th>\n      <td>0.001448</td>\n      <td>0.160208</td>\n      <td>0.172376</td>\n      <td>0.117948</td>\n      <td>0.018861</td>\n      <td>0.094835</td>\n      <td>0.260470</td>\n      <td>-0.158804</td>\n      <td>0.012249</td>\n      <td>0.009459</td>\n      <td>...</td>\n      <td>-0.133639</td>\n      <td>-0.141140</td>\n      <td>0.186745</td>\n      <td>0.048173</td>\n      <td>-0.166162</td>\n      <td>-0.075324</td>\n      <td>-0.267078</td>\n      <td>-0.034679</td>\n      <td>0.249095</td>\n      <td>0.087048</td>\n    </tr>\n  </tbody>\n</table>\n<p>4099 rows × 50 columns</p>\n</div>"
     },
     "execution_count": 8,
     "metadata": {},
     "output_type": "execute_result"
    }
   ],
   "source": [
    "embeddings = list(model.parameters())[0]\n",
    "embeddings = embeddings.detach().numpy()\n",
    "df_embeddings = pd.DataFrame(embeddings)\n",
    "df_embeddings"
   ],
   "metadata": {
    "collapsed": false
   }
  },
  {
   "cell_type": "markdown",
   "source": [
    "# Visualisation"
   ],
   "metadata": {
    "collapsed": false
   }
  },
  {
   "cell_type": "code",
   "execution_count": 9,
   "outputs": [],
   "source": [
    "tsne = TSNE(n_components=2)\n",
    "df_embeddings_transformed = pd.DataFrame(tsne.fit_transform(df_embeddings))\n",
    "df_embeddings_transformed.index = vocab.get_itos()\n",
    "df_embeddings_transformed.rename(columns={0: 'x', 1: 'y'}, inplace=True)"
   ],
   "metadata": {
    "collapsed": false
   }
  },
  {
   "cell_type": "code",
   "execution_count": 22,
   "outputs": [
    {
     "data": {
      "application/vnd.plotly.v1+json": {
       "data": [
        {
         "hovertemplate": "x=%{x}<br>y=%{y}<br>index=%{text}<extra></extra>",
         "legendgroup": "",
         "marker": {
          "color": "#636efa",
          "symbol": "circle"
         },
         "mode": "markers+text",
         "name": "",
         "orientation": "v",
         "showlegend": false,
         "text": [
          "sister",
          "like",
          "earliest",
          "teams",
          "corythosaurus",
          "sale",
          "afterwards",
          "conservation",
          "experience",
          "aspects",
          "situation",
          "17",
          "voice",
          "observed",
          "races",
          "cape",
          "political",
          "remained",
          "passes",
          "stations",
          "fish",
          "showed",
          "debate",
          "chain",
          "70",
          "eliminated",
          "soviet",
          "mtv",
          "sees",
          "frame",
          "consists",
          "26",
          "rock",
          "non",
          "poorly",
          "1990",
          "match",
          "rebels",
          "practices",
          "via",
          "kurt",
          "strand",
          "staff",
          "overall",
          "would",
          "mulder",
          "adams",
          "atmosphere",
          "nba",
          "object"
         ],
         "x": [
          -26.038965225219727,
          -44.54560089111328,
          10.07826042175293,
          20.19683265686035,
          -18.656749725341797,
          -7.518235683441162,
          25.20768165588379,
          5.399704933166504,
          -20.676124572753906,
          -13.826285362243652,
          -6.83552360534668,
          57.05231857299805,
          -20.49510383605957,
          -28.11618995666504,
          -11.519332885742188,
          28.431367874145508,
          -23.101551055908203,
          0.3777252733707428,
          36.03992462158203,
          -0.11141101270914078,
          -18.822185516357422,
          -34.608055114746094,
          -6.891427993774414,
          -14.175812721252441,
          58.841400146484375,
          -2.6445584297180176,
          20.40265655517578,
          -1.7496087551116943,
          -9.300329208374023,
          40.27241897583008,
          29.074106216430664,
          56.264381408691406,
          -14.370153427124023,
          31.18438148498535,
          -28.342041015625,
          48.356971740722656,
          19.705799102783203,
          9.388412475585938,
          -23.14632225036621,
          16.621566772460938,
          -15.836578369140625,
          0.9668599963188171,
          -25.100418090820312,
          13.275311470031738,
          -47.35145568847656,
          -31.17799949645996,
          -8.100126266479492,
          -17.55569839477539,
          22.272239685058594,
          -10.293299674987793
         ],
         "xaxis": "x",
         "y": [
          23.102991104125977,
          8.176380157470703,
          -13.09161376953125,
          -2.652013063430786,
          -35.697669982910156,
          37.493709564208984,
          42.869686126708984,
          -23.398101806640625,
          6.8775200843811035,
          -44.529293060302734,
          2.0138673782348633,
          7.7032470703125,
          21.408918380737305,
          -6.638281345367432,
          -45.660858154296875,
          -23.89314079284668,
          18.798587799072266,
          -15.700851440429688,
          -22.58672332763672,
          -44.3355827331543,
          30.929710388183594,
          10.622566223144531,
          0.2724229395389557,
          -4.339221954345703,
          -8.605401039123535,
          -18.173625946044922,
          -32.06324005126953,
          44.26872253417969,
          22.974740982055664,
          -7.316705703735352,
          11.524229049682617,
          8.53509521484375,
          40.58366012573242,
          -3.561278820037842,
          -17.036855697631836,
          15.658943176269531,
          19.854076385498047,
          -39.466915130615234,
          16.944459915161133,
          -34.44074249267578,
          49.13982391357422,
          0.635461151599884,
          18.72104835510254,
          18.27231216430664,
          11.812732696533203,
          27.06211280822754,
          39.95840072631836,
          9.431500434875488,
          25.328657150268555,
          1.9737519025802612
         ],
         "yaxis": "y",
         "type": "scatter",
         "textposition": "top center"
        }
       ],
       "layout": {
        "template": {
         "data": {
          "histogram2dcontour": [
           {
            "type": "histogram2dcontour",
            "colorbar": {
             "outlinewidth": 0,
             "ticks": ""
            },
            "colorscale": [
             [
              0.0,
              "#0d0887"
             ],
             [
              0.1111111111111111,
              "#46039f"
             ],
             [
              0.2222222222222222,
              "#7201a8"
             ],
             [
              0.3333333333333333,
              "#9c179e"
             ],
             [
              0.4444444444444444,
              "#bd3786"
             ],
             [
              0.5555555555555556,
              "#d8576b"
             ],
             [
              0.6666666666666666,
              "#ed7953"
             ],
             [
              0.7777777777777778,
              "#fb9f3a"
             ],
             [
              0.8888888888888888,
              "#fdca26"
             ],
             [
              1.0,
              "#f0f921"
             ]
            ]
           }
          ],
          "choropleth": [
           {
            "type": "choropleth",
            "colorbar": {
             "outlinewidth": 0,
             "ticks": ""
            }
           }
          ],
          "histogram2d": [
           {
            "type": "histogram2d",
            "colorbar": {
             "outlinewidth": 0,
             "ticks": ""
            },
            "colorscale": [
             [
              0.0,
              "#0d0887"
             ],
             [
              0.1111111111111111,
              "#46039f"
             ],
             [
              0.2222222222222222,
              "#7201a8"
             ],
             [
              0.3333333333333333,
              "#9c179e"
             ],
             [
              0.4444444444444444,
              "#bd3786"
             ],
             [
              0.5555555555555556,
              "#d8576b"
             ],
             [
              0.6666666666666666,
              "#ed7953"
             ],
             [
              0.7777777777777778,
              "#fb9f3a"
             ],
             [
              0.8888888888888888,
              "#fdca26"
             ],
             [
              1.0,
              "#f0f921"
             ]
            ]
           }
          ],
          "heatmap": [
           {
            "type": "heatmap",
            "colorbar": {
             "outlinewidth": 0,
             "ticks": ""
            },
            "colorscale": [
             [
              0.0,
              "#0d0887"
             ],
             [
              0.1111111111111111,
              "#46039f"
             ],
             [
              0.2222222222222222,
              "#7201a8"
             ],
             [
              0.3333333333333333,
              "#9c179e"
             ],
             [
              0.4444444444444444,
              "#bd3786"
             ],
             [
              0.5555555555555556,
              "#d8576b"
             ],
             [
              0.6666666666666666,
              "#ed7953"
             ],
             [
              0.7777777777777778,
              "#fb9f3a"
             ],
             [
              0.8888888888888888,
              "#fdca26"
             ],
             [
              1.0,
              "#f0f921"
             ]
            ]
           }
          ],
          "heatmapgl": [
           {
            "type": "heatmapgl",
            "colorbar": {
             "outlinewidth": 0,
             "ticks": ""
            },
            "colorscale": [
             [
              0.0,
              "#0d0887"
             ],
             [
              0.1111111111111111,
              "#46039f"
             ],
             [
              0.2222222222222222,
              "#7201a8"
             ],
             [
              0.3333333333333333,
              "#9c179e"
             ],
             [
              0.4444444444444444,
              "#bd3786"
             ],
             [
              0.5555555555555556,
              "#d8576b"
             ],
             [
              0.6666666666666666,
              "#ed7953"
             ],
             [
              0.7777777777777778,
              "#fb9f3a"
             ],
             [
              0.8888888888888888,
              "#fdca26"
             ],
             [
              1.0,
              "#f0f921"
             ]
            ]
           }
          ],
          "contourcarpet": [
           {
            "type": "contourcarpet",
            "colorbar": {
             "outlinewidth": 0,
             "ticks": ""
            }
           }
          ],
          "contour": [
           {
            "type": "contour",
            "colorbar": {
             "outlinewidth": 0,
             "ticks": ""
            },
            "colorscale": [
             [
              0.0,
              "#0d0887"
             ],
             [
              0.1111111111111111,
              "#46039f"
             ],
             [
              0.2222222222222222,
              "#7201a8"
             ],
             [
              0.3333333333333333,
              "#9c179e"
             ],
             [
              0.4444444444444444,
              "#bd3786"
             ],
             [
              0.5555555555555556,
              "#d8576b"
             ],
             [
              0.6666666666666666,
              "#ed7953"
             ],
             [
              0.7777777777777778,
              "#fb9f3a"
             ],
             [
              0.8888888888888888,
              "#fdca26"
             ],
             [
              1.0,
              "#f0f921"
             ]
            ]
           }
          ],
          "surface": [
           {
            "type": "surface",
            "colorbar": {
             "outlinewidth": 0,
             "ticks": ""
            },
            "colorscale": [
             [
              0.0,
              "#0d0887"
             ],
             [
              0.1111111111111111,
              "#46039f"
             ],
             [
              0.2222222222222222,
              "#7201a8"
             ],
             [
              0.3333333333333333,
              "#9c179e"
             ],
             [
              0.4444444444444444,
              "#bd3786"
             ],
             [
              0.5555555555555556,
              "#d8576b"
             ],
             [
              0.6666666666666666,
              "#ed7953"
             ],
             [
              0.7777777777777778,
              "#fb9f3a"
             ],
             [
              0.8888888888888888,
              "#fdca26"
             ],
             [
              1.0,
              "#f0f921"
             ]
            ]
           }
          ],
          "mesh3d": [
           {
            "type": "mesh3d",
            "colorbar": {
             "outlinewidth": 0,
             "ticks": ""
            }
           }
          ],
          "scatter": [
           {
            "fillpattern": {
             "fillmode": "overlay",
             "size": 10,
             "solidity": 0.2
            },
            "type": "scatter"
           }
          ],
          "parcoords": [
           {
            "type": "parcoords",
            "line": {
             "colorbar": {
              "outlinewidth": 0,
              "ticks": ""
             }
            }
           }
          ],
          "scatterpolargl": [
           {
            "type": "scatterpolargl",
            "marker": {
             "colorbar": {
              "outlinewidth": 0,
              "ticks": ""
             }
            }
           }
          ],
          "bar": [
           {
            "error_x": {
             "color": "#2a3f5f"
            },
            "error_y": {
             "color": "#2a3f5f"
            },
            "marker": {
             "line": {
              "color": "#E5ECF6",
              "width": 0.5
             },
             "pattern": {
              "fillmode": "overlay",
              "size": 10,
              "solidity": 0.2
             }
            },
            "type": "bar"
           }
          ],
          "scattergeo": [
           {
            "type": "scattergeo",
            "marker": {
             "colorbar": {
              "outlinewidth": 0,
              "ticks": ""
             }
            }
           }
          ],
          "scatterpolar": [
           {
            "type": "scatterpolar",
            "marker": {
             "colorbar": {
              "outlinewidth": 0,
              "ticks": ""
             }
            }
           }
          ],
          "histogram": [
           {
            "marker": {
             "pattern": {
              "fillmode": "overlay",
              "size": 10,
              "solidity": 0.2
             }
            },
            "type": "histogram"
           }
          ],
          "scattergl": [
           {
            "type": "scattergl",
            "marker": {
             "colorbar": {
              "outlinewidth": 0,
              "ticks": ""
             }
            }
           }
          ],
          "scatter3d": [
           {
            "type": "scatter3d",
            "line": {
             "colorbar": {
              "outlinewidth": 0,
              "ticks": ""
             }
            },
            "marker": {
             "colorbar": {
              "outlinewidth": 0,
              "ticks": ""
             }
            }
           }
          ],
          "scattermapbox": [
           {
            "type": "scattermapbox",
            "marker": {
             "colorbar": {
              "outlinewidth": 0,
              "ticks": ""
             }
            }
           }
          ],
          "scatterternary": [
           {
            "type": "scatterternary",
            "marker": {
             "colorbar": {
              "outlinewidth": 0,
              "ticks": ""
             }
            }
           }
          ],
          "scattercarpet": [
           {
            "type": "scattercarpet",
            "marker": {
             "colorbar": {
              "outlinewidth": 0,
              "ticks": ""
             }
            }
           }
          ],
          "carpet": [
           {
            "aaxis": {
             "endlinecolor": "#2a3f5f",
             "gridcolor": "white",
             "linecolor": "white",
             "minorgridcolor": "white",
             "startlinecolor": "#2a3f5f"
            },
            "baxis": {
             "endlinecolor": "#2a3f5f",
             "gridcolor": "white",
             "linecolor": "white",
             "minorgridcolor": "white",
             "startlinecolor": "#2a3f5f"
            },
            "type": "carpet"
           }
          ],
          "table": [
           {
            "cells": {
             "fill": {
              "color": "#EBF0F8"
             },
             "line": {
              "color": "white"
             }
            },
            "header": {
             "fill": {
              "color": "#C8D4E3"
             },
             "line": {
              "color": "white"
             }
            },
            "type": "table"
           }
          ],
          "barpolar": [
           {
            "marker": {
             "line": {
              "color": "#E5ECF6",
              "width": 0.5
             },
             "pattern": {
              "fillmode": "overlay",
              "size": 10,
              "solidity": 0.2
             }
            },
            "type": "barpolar"
           }
          ],
          "pie": [
           {
            "automargin": true,
            "type": "pie"
           }
          ]
         },
         "layout": {
          "autotypenumbers": "strict",
          "colorway": [
           "#636efa",
           "#EF553B",
           "#00cc96",
           "#ab63fa",
           "#FFA15A",
           "#19d3f3",
           "#FF6692",
           "#B6E880",
           "#FF97FF",
           "#FECB52"
          ],
          "font": {
           "color": "#2a3f5f"
          },
          "hovermode": "closest",
          "hoverlabel": {
           "align": "left"
          },
          "paper_bgcolor": "white",
          "plot_bgcolor": "#E5ECF6",
          "polar": {
           "bgcolor": "#E5ECF6",
           "angularaxis": {
            "gridcolor": "white",
            "linecolor": "white",
            "ticks": ""
           },
           "radialaxis": {
            "gridcolor": "white",
            "linecolor": "white",
            "ticks": ""
           }
          },
          "ternary": {
           "bgcolor": "#E5ECF6",
           "aaxis": {
            "gridcolor": "white",
            "linecolor": "white",
            "ticks": ""
           },
           "baxis": {
            "gridcolor": "white",
            "linecolor": "white",
            "ticks": ""
           },
           "caxis": {
            "gridcolor": "white",
            "linecolor": "white",
            "ticks": ""
           }
          },
          "coloraxis": {
           "colorbar": {
            "outlinewidth": 0,
            "ticks": ""
           }
          },
          "colorscale": {
           "sequential": [
            [
             0.0,
             "#0d0887"
            ],
            [
             0.1111111111111111,
             "#46039f"
            ],
            [
             0.2222222222222222,
             "#7201a8"
            ],
            [
             0.3333333333333333,
             "#9c179e"
            ],
            [
             0.4444444444444444,
             "#bd3786"
            ],
            [
             0.5555555555555556,
             "#d8576b"
            ],
            [
             0.6666666666666666,
             "#ed7953"
            ],
            [
             0.7777777777777778,
             "#fb9f3a"
            ],
            [
             0.8888888888888888,
             "#fdca26"
            ],
            [
             1.0,
             "#f0f921"
            ]
           ],
           "sequentialminus": [
            [
             0.0,
             "#0d0887"
            ],
            [
             0.1111111111111111,
             "#46039f"
            ],
            [
             0.2222222222222222,
             "#7201a8"
            ],
            [
             0.3333333333333333,
             "#9c179e"
            ],
            [
             0.4444444444444444,
             "#bd3786"
            ],
            [
             0.5555555555555556,
             "#d8576b"
            ],
            [
             0.6666666666666666,
             "#ed7953"
            ],
            [
             0.7777777777777778,
             "#fb9f3a"
            ],
            [
             0.8888888888888888,
             "#fdca26"
            ],
            [
             1.0,
             "#f0f921"
            ]
           ],
           "diverging": [
            [
             0,
             "#8e0152"
            ],
            [
             0.1,
             "#c51b7d"
            ],
            [
             0.2,
             "#de77ae"
            ],
            [
             0.3,
             "#f1b6da"
            ],
            [
             0.4,
             "#fde0ef"
            ],
            [
             0.5,
             "#f7f7f7"
            ],
            [
             0.6,
             "#e6f5d0"
            ],
            [
             0.7,
             "#b8e186"
            ],
            [
             0.8,
             "#7fbc41"
            ],
            [
             0.9,
             "#4d9221"
            ],
            [
             1,
             "#276419"
            ]
           ]
          },
          "xaxis": {
           "gridcolor": "white",
           "linecolor": "white",
           "ticks": "",
           "title": {
            "standoff": 15
           },
           "zerolinecolor": "white",
           "automargin": true,
           "zerolinewidth": 2
          },
          "yaxis": {
           "gridcolor": "white",
           "linecolor": "white",
           "ticks": "",
           "title": {
            "standoff": 15
           },
           "zerolinecolor": "white",
           "automargin": true,
           "zerolinewidth": 2
          },
          "scene": {
           "xaxis": {
            "backgroundcolor": "#E5ECF6",
            "gridcolor": "white",
            "linecolor": "white",
            "showbackground": true,
            "ticks": "",
            "zerolinecolor": "white",
            "gridwidth": 2
           },
           "yaxis": {
            "backgroundcolor": "#E5ECF6",
            "gridcolor": "white",
            "linecolor": "white",
            "showbackground": true,
            "ticks": "",
            "zerolinecolor": "white",
            "gridwidth": 2
           },
           "zaxis": {
            "backgroundcolor": "#E5ECF6",
            "gridcolor": "white",
            "linecolor": "white",
            "showbackground": true,
            "ticks": "",
            "zerolinecolor": "white",
            "gridwidth": 2
           }
          },
          "shapedefaults": {
           "line": {
            "color": "#2a3f5f"
           }
          },
          "annotationdefaults": {
           "arrowcolor": "#2a3f5f",
           "arrowhead": 0,
           "arrowwidth": 1
          },
          "geo": {
           "bgcolor": "white",
           "landcolor": "#E5ECF6",
           "subunitcolor": "white",
           "showland": true,
           "showlakes": true,
           "lakecolor": "white"
          },
          "title": {
           "x": 0.05
          },
          "mapbox": {
           "style": "light"
          }
         }
        },
        "xaxis": {
         "anchor": "y",
         "domain": [
          0.0,
          1.0
         ],
         "title": {
          "text": "x"
         }
        },
        "yaxis": {
         "anchor": "x",
         "domain": [
          0.0,
          1.0
         ],
         "title": {
          "text": "y"
         }
        },
        "legend": {
         "tracegroupgap": 0
        },
        "margin": {
         "t": 60
        },
        "title": {
         "text": "Visualisation of words using t-SNE algorithm"
        },
        "height": 800
       },
       "config": {
        "plotlyServerURL": "https://plot.ly"
       }
      },
      "text/html": "<div>                            <div id=\"426e5d93-0fc2-4863-9073-4e44a18074d3\" class=\"plotly-graph-div\" style=\"height:800px; width:100%;\"></div>            <script type=\"text/javascript\">                require([\"plotly\"], function(Plotly) {                    window.PLOTLYENV=window.PLOTLYENV || {};                                    if (document.getElementById(\"426e5d93-0fc2-4863-9073-4e44a18074d3\")) {                    Plotly.newPlot(                        \"426e5d93-0fc2-4863-9073-4e44a18074d3\",                        [{\"hovertemplate\":\"x=%{x}<br>y=%{y}<br>index=%{text}<extra></extra>\",\"legendgroup\":\"\",\"marker\":{\"color\":\"#636efa\",\"symbol\":\"circle\"},\"mode\":\"markers+text\",\"name\":\"\",\"orientation\":\"v\",\"showlegend\":false,\"text\":[\"sister\",\"like\",\"earliest\",\"teams\",\"corythosaurus\",\"sale\",\"afterwards\",\"conservation\",\"experience\",\"aspects\",\"situation\",\"17\",\"voice\",\"observed\",\"races\",\"cape\",\"political\",\"remained\",\"passes\",\"stations\",\"fish\",\"showed\",\"debate\",\"chain\",\"70\",\"eliminated\",\"soviet\",\"mtv\",\"sees\",\"frame\",\"consists\",\"26\",\"rock\",\"non\",\"poorly\",\"1990\",\"match\",\"rebels\",\"practices\",\"via\",\"kurt\",\"strand\",\"staff\",\"overall\",\"would\",\"mulder\",\"adams\",\"atmosphere\",\"nba\",\"object\"],\"x\":[-26.038965225219727,-44.54560089111328,10.07826042175293,20.19683265686035,-18.656749725341797,-7.518235683441162,25.20768165588379,5.399704933166504,-20.676124572753906,-13.826285362243652,-6.83552360534668,57.05231857299805,-20.49510383605957,-28.11618995666504,-11.519332885742188,28.431367874145508,-23.101551055908203,0.3777252733707428,36.03992462158203,-0.11141101270914078,-18.822185516357422,-34.608055114746094,-6.891427993774414,-14.175812721252441,58.841400146484375,-2.6445584297180176,20.40265655517578,-1.7496087551116943,-9.300329208374023,40.27241897583008,29.074106216430664,56.264381408691406,-14.370153427124023,31.18438148498535,-28.342041015625,48.356971740722656,19.705799102783203,9.388412475585938,-23.14632225036621,16.621566772460938,-15.836578369140625,0.9668599963188171,-25.100418090820312,13.275311470031738,-47.35145568847656,-31.17799949645996,-8.100126266479492,-17.55569839477539,22.272239685058594,-10.293299674987793],\"xaxis\":\"x\",\"y\":[23.102991104125977,8.176380157470703,-13.09161376953125,-2.652013063430786,-35.697669982910156,37.493709564208984,42.869686126708984,-23.398101806640625,6.8775200843811035,-44.529293060302734,2.0138673782348633,7.7032470703125,21.408918380737305,-6.638281345367432,-45.660858154296875,-23.89314079284668,18.798587799072266,-15.700851440429688,-22.58672332763672,-44.3355827331543,30.929710388183594,10.622566223144531,0.2724229395389557,-4.339221954345703,-8.605401039123535,-18.173625946044922,-32.06324005126953,44.26872253417969,22.974740982055664,-7.316705703735352,11.524229049682617,8.53509521484375,40.58366012573242,-3.561278820037842,-17.036855697631836,15.658943176269531,19.854076385498047,-39.466915130615234,16.944459915161133,-34.44074249267578,49.13982391357422,0.635461151599884,18.72104835510254,18.27231216430664,11.812732696533203,27.06211280822754,39.95840072631836,9.431500434875488,25.328657150268555,1.9737519025802612],\"yaxis\":\"y\",\"type\":\"scatter\",\"textposition\":\"top center\"}],                        {\"template\":{\"data\":{\"histogram2dcontour\":[{\"type\":\"histogram2dcontour\",\"colorbar\":{\"outlinewidth\":0,\"ticks\":\"\"},\"colorscale\":[[0.0,\"#0d0887\"],[0.1111111111111111,\"#46039f\"],[0.2222222222222222,\"#7201a8\"],[0.3333333333333333,\"#9c179e\"],[0.4444444444444444,\"#bd3786\"],[0.5555555555555556,\"#d8576b\"],[0.6666666666666666,\"#ed7953\"],[0.7777777777777778,\"#fb9f3a\"],[0.8888888888888888,\"#fdca26\"],[1.0,\"#f0f921\"]]}],\"choropleth\":[{\"type\":\"choropleth\",\"colorbar\":{\"outlinewidth\":0,\"ticks\":\"\"}}],\"histogram2d\":[{\"type\":\"histogram2d\",\"colorbar\":{\"outlinewidth\":0,\"ticks\":\"\"},\"colorscale\":[[0.0,\"#0d0887\"],[0.1111111111111111,\"#46039f\"],[0.2222222222222222,\"#7201a8\"],[0.3333333333333333,\"#9c179e\"],[0.4444444444444444,\"#bd3786\"],[0.5555555555555556,\"#d8576b\"],[0.6666666666666666,\"#ed7953\"],[0.7777777777777778,\"#fb9f3a\"],[0.8888888888888888,\"#fdca26\"],[1.0,\"#f0f921\"]]}],\"heatmap\":[{\"type\":\"heatmap\",\"colorbar\":{\"outlinewidth\":0,\"ticks\":\"\"},\"colorscale\":[[0.0,\"#0d0887\"],[0.1111111111111111,\"#46039f\"],[0.2222222222222222,\"#7201a8\"],[0.3333333333333333,\"#9c179e\"],[0.4444444444444444,\"#bd3786\"],[0.5555555555555556,\"#d8576b\"],[0.6666666666666666,\"#ed7953\"],[0.7777777777777778,\"#fb9f3a\"],[0.8888888888888888,\"#fdca26\"],[1.0,\"#f0f921\"]]}],\"heatmapgl\":[{\"type\":\"heatmapgl\",\"colorbar\":{\"outlinewidth\":0,\"ticks\":\"\"},\"colorscale\":[[0.0,\"#0d0887\"],[0.1111111111111111,\"#46039f\"],[0.2222222222222222,\"#7201a8\"],[0.3333333333333333,\"#9c179e\"],[0.4444444444444444,\"#bd3786\"],[0.5555555555555556,\"#d8576b\"],[0.6666666666666666,\"#ed7953\"],[0.7777777777777778,\"#fb9f3a\"],[0.8888888888888888,\"#fdca26\"],[1.0,\"#f0f921\"]]}],\"contourcarpet\":[{\"type\":\"contourcarpet\",\"colorbar\":{\"outlinewidth\":0,\"ticks\":\"\"}}],\"contour\":[{\"type\":\"contour\",\"colorbar\":{\"outlinewidth\":0,\"ticks\":\"\"},\"colorscale\":[[0.0,\"#0d0887\"],[0.1111111111111111,\"#46039f\"],[0.2222222222222222,\"#7201a8\"],[0.3333333333333333,\"#9c179e\"],[0.4444444444444444,\"#bd3786\"],[0.5555555555555556,\"#d8576b\"],[0.6666666666666666,\"#ed7953\"],[0.7777777777777778,\"#fb9f3a\"],[0.8888888888888888,\"#fdca26\"],[1.0,\"#f0f921\"]]}],\"surface\":[{\"type\":\"surface\",\"colorbar\":{\"outlinewidth\":0,\"ticks\":\"\"},\"colorscale\":[[0.0,\"#0d0887\"],[0.1111111111111111,\"#46039f\"],[0.2222222222222222,\"#7201a8\"],[0.3333333333333333,\"#9c179e\"],[0.4444444444444444,\"#bd3786\"],[0.5555555555555556,\"#d8576b\"],[0.6666666666666666,\"#ed7953\"],[0.7777777777777778,\"#fb9f3a\"],[0.8888888888888888,\"#fdca26\"],[1.0,\"#f0f921\"]]}],\"mesh3d\":[{\"type\":\"mesh3d\",\"colorbar\":{\"outlinewidth\":0,\"ticks\":\"\"}}],\"scatter\":[{\"fillpattern\":{\"fillmode\":\"overlay\",\"size\":10,\"solidity\":0.2},\"type\":\"scatter\"}],\"parcoords\":[{\"type\":\"parcoords\",\"line\":{\"colorbar\":{\"outlinewidth\":0,\"ticks\":\"\"}}}],\"scatterpolargl\":[{\"type\":\"scatterpolargl\",\"marker\":{\"colorbar\":{\"outlinewidth\":0,\"ticks\":\"\"}}}],\"bar\":[{\"error_x\":{\"color\":\"#2a3f5f\"},\"error_y\":{\"color\":\"#2a3f5f\"},\"marker\":{\"line\":{\"color\":\"#E5ECF6\",\"width\":0.5},\"pattern\":{\"fillmode\":\"overlay\",\"size\":10,\"solidity\":0.2}},\"type\":\"bar\"}],\"scattergeo\":[{\"type\":\"scattergeo\",\"marker\":{\"colorbar\":{\"outlinewidth\":0,\"ticks\":\"\"}}}],\"scatterpolar\":[{\"type\":\"scatterpolar\",\"marker\":{\"colorbar\":{\"outlinewidth\":0,\"ticks\":\"\"}}}],\"histogram\":[{\"marker\":{\"pattern\":{\"fillmode\":\"overlay\",\"size\":10,\"solidity\":0.2}},\"type\":\"histogram\"}],\"scattergl\":[{\"type\":\"scattergl\",\"marker\":{\"colorbar\":{\"outlinewidth\":0,\"ticks\":\"\"}}}],\"scatter3d\":[{\"type\":\"scatter3d\",\"line\":{\"colorbar\":{\"outlinewidth\":0,\"ticks\":\"\"}},\"marker\":{\"colorbar\":{\"outlinewidth\":0,\"ticks\":\"\"}}}],\"scattermapbox\":[{\"type\":\"scattermapbox\",\"marker\":{\"colorbar\":{\"outlinewidth\":0,\"ticks\":\"\"}}}],\"scatterternary\":[{\"type\":\"scatterternary\",\"marker\":{\"colorbar\":{\"outlinewidth\":0,\"ticks\":\"\"}}}],\"scattercarpet\":[{\"type\":\"scattercarpet\",\"marker\":{\"colorbar\":{\"outlinewidth\":0,\"ticks\":\"\"}}}],\"carpet\":[{\"aaxis\":{\"endlinecolor\":\"#2a3f5f\",\"gridcolor\":\"white\",\"linecolor\":\"white\",\"minorgridcolor\":\"white\",\"startlinecolor\":\"#2a3f5f\"},\"baxis\":{\"endlinecolor\":\"#2a3f5f\",\"gridcolor\":\"white\",\"linecolor\":\"white\",\"minorgridcolor\":\"white\",\"startlinecolor\":\"#2a3f5f\"},\"type\":\"carpet\"}],\"table\":[{\"cells\":{\"fill\":{\"color\":\"#EBF0F8\"},\"line\":{\"color\":\"white\"}},\"header\":{\"fill\":{\"color\":\"#C8D4E3\"},\"line\":{\"color\":\"white\"}},\"type\":\"table\"}],\"barpolar\":[{\"marker\":{\"line\":{\"color\":\"#E5ECF6\",\"width\":0.5},\"pattern\":{\"fillmode\":\"overlay\",\"size\":10,\"solidity\":0.2}},\"type\":\"barpolar\"}],\"pie\":[{\"automargin\":true,\"type\":\"pie\"}]},\"layout\":{\"autotypenumbers\":\"strict\",\"colorway\":[\"#636efa\",\"#EF553B\",\"#00cc96\",\"#ab63fa\",\"#FFA15A\",\"#19d3f3\",\"#FF6692\",\"#B6E880\",\"#FF97FF\",\"#FECB52\"],\"font\":{\"color\":\"#2a3f5f\"},\"hovermode\":\"closest\",\"hoverlabel\":{\"align\":\"left\"},\"paper_bgcolor\":\"white\",\"plot_bgcolor\":\"#E5ECF6\",\"polar\":{\"bgcolor\":\"#E5ECF6\",\"angularaxis\":{\"gridcolor\":\"white\",\"linecolor\":\"white\",\"ticks\":\"\"},\"radialaxis\":{\"gridcolor\":\"white\",\"linecolor\":\"white\",\"ticks\":\"\"}},\"ternary\":{\"bgcolor\":\"#E5ECF6\",\"aaxis\":{\"gridcolor\":\"white\",\"linecolor\":\"white\",\"ticks\":\"\"},\"baxis\":{\"gridcolor\":\"white\",\"linecolor\":\"white\",\"ticks\":\"\"},\"caxis\":{\"gridcolor\":\"white\",\"linecolor\":\"white\",\"ticks\":\"\"}},\"coloraxis\":{\"colorbar\":{\"outlinewidth\":0,\"ticks\":\"\"}},\"colorscale\":{\"sequential\":[[0.0,\"#0d0887\"],[0.1111111111111111,\"#46039f\"],[0.2222222222222222,\"#7201a8\"],[0.3333333333333333,\"#9c179e\"],[0.4444444444444444,\"#bd3786\"],[0.5555555555555556,\"#d8576b\"],[0.6666666666666666,\"#ed7953\"],[0.7777777777777778,\"#fb9f3a\"],[0.8888888888888888,\"#fdca26\"],[1.0,\"#f0f921\"]],\"sequentialminus\":[[0.0,\"#0d0887\"],[0.1111111111111111,\"#46039f\"],[0.2222222222222222,\"#7201a8\"],[0.3333333333333333,\"#9c179e\"],[0.4444444444444444,\"#bd3786\"],[0.5555555555555556,\"#d8576b\"],[0.6666666666666666,\"#ed7953\"],[0.7777777777777778,\"#fb9f3a\"],[0.8888888888888888,\"#fdca26\"],[1.0,\"#f0f921\"]],\"diverging\":[[0,\"#8e0152\"],[0.1,\"#c51b7d\"],[0.2,\"#de77ae\"],[0.3,\"#f1b6da\"],[0.4,\"#fde0ef\"],[0.5,\"#f7f7f7\"],[0.6,\"#e6f5d0\"],[0.7,\"#b8e186\"],[0.8,\"#7fbc41\"],[0.9,\"#4d9221\"],[1,\"#276419\"]]},\"xaxis\":{\"gridcolor\":\"white\",\"linecolor\":\"white\",\"ticks\":\"\",\"title\":{\"standoff\":15},\"zerolinecolor\":\"white\",\"automargin\":true,\"zerolinewidth\":2},\"yaxis\":{\"gridcolor\":\"white\",\"linecolor\":\"white\",\"ticks\":\"\",\"title\":{\"standoff\":15},\"zerolinecolor\":\"white\",\"automargin\":true,\"zerolinewidth\":2},\"scene\":{\"xaxis\":{\"backgroundcolor\":\"#E5ECF6\",\"gridcolor\":\"white\",\"linecolor\":\"white\",\"showbackground\":true,\"ticks\":\"\",\"zerolinecolor\":\"white\",\"gridwidth\":2},\"yaxis\":{\"backgroundcolor\":\"#E5ECF6\",\"gridcolor\":\"white\",\"linecolor\":\"white\",\"showbackground\":true,\"ticks\":\"\",\"zerolinecolor\":\"white\",\"gridwidth\":2},\"zaxis\":{\"backgroundcolor\":\"#E5ECF6\",\"gridcolor\":\"white\",\"linecolor\":\"white\",\"showbackground\":true,\"ticks\":\"\",\"zerolinecolor\":\"white\",\"gridwidth\":2}},\"shapedefaults\":{\"line\":{\"color\":\"#2a3f5f\"}},\"annotationdefaults\":{\"arrowcolor\":\"#2a3f5f\",\"arrowhead\":0,\"arrowwidth\":1},\"geo\":{\"bgcolor\":\"white\",\"landcolor\":\"#E5ECF6\",\"subunitcolor\":\"white\",\"showland\":true,\"showlakes\":true,\"lakecolor\":\"white\"},\"title\":{\"x\":0.05},\"mapbox\":{\"style\":\"light\"}}},\"xaxis\":{\"anchor\":\"y\",\"domain\":[0.0,1.0],\"title\":{\"text\":\"x\"}},\"yaxis\":{\"anchor\":\"x\",\"domain\":[0.0,1.0],\"title\":{\"text\":\"y\"}},\"legend\":{\"tracegroupgap\":0},\"margin\":{\"t\":60},\"title\":{\"text\":\"Visualisation of words using t-SNE algorithm\"},\"height\":800},                        {\"responsive\": true}                    ).then(function(){\n                            \nvar gd = document.getElementById('426e5d93-0fc2-4863-9073-4e44a18074d3');\nvar x = new MutationObserver(function (mutations, observer) {{\n        var display = window.getComputedStyle(gd).display;\n        if (!display || display === 'none') {{\n            console.log([gd, 'removed!']);\n            Plotly.purge(gd);\n            observer.disconnect();\n        }}\n}});\n\n// Listen for the removal of the full notebook cells\nvar notebookContainer = gd.closest('#notebook-container');\nif (notebookContainer) {{\n    x.observe(notebookContainer, {childList: true});\n}}\n\n// Listen for the clearing of the current output cell\nvar outputEl = gd.closest('.output');\nif (outputEl) {{\n    x.observe(outputEl, {childList: true});\n}}\n\n                        })                };                });            </script>        </div>"
     },
     "metadata": {},
     "output_type": "display_data"
    }
   ],
   "source": [
    "df_embeddings_plot = df_embeddings_transformed.sample(50, replace=False)\n",
    "\n",
    "fig = px.scatter(df_embeddings_plot, x='x', y='y', text=df_embeddings_plot.index)\n",
    "fig.update_layout(\n",
    "    height=800,\n",
    "    title_text='Visualisation of words using t-SNE algorithm'\n",
    ")\n",
    "fig.update_traces(textposition='top center')\n",
    "fig.show()"
   ],
   "metadata": {
    "collapsed": false
   }
  },
  {
   "cell_type": "markdown",
   "source": [
    "# Find similar words"
   ],
   "metadata": {
    "collapsed": false
   }
  },
  {
   "cell_type": "code",
   "execution_count": 17,
   "outputs": [],
   "source": [
    "def get_embedding(df_embeddings, vocab, word: str) -> str:\n",
    "    return df_embeddings.loc[vocab.get_stoi()[word]]"
   ],
   "metadata": {
    "collapsed": false
   }
  },
  {
   "cell_type": "code",
   "execution_count": 18,
   "outputs": [],
   "source": [
    "def top_similar_words(df_embeddings: pd.DataFrame, word: str | list[float], vocab = None, n: int = 10) -> dict[str, float]:\n",
    "    if isinstance(word, str):\n",
    "        word_id = vocab[word]\n",
    "        word_vec = df_embeddings.loc[word_id]\n",
    "    else:\n",
    "        word_id = -1\n",
    "        word_vec = word\n",
    "    distances = df_embeddings.apply(lambda embed: np.matmul(word_vec, embed), axis=1)\n",
    "    if isinstance(word, str):\n",
    "        distances = distances.drop(word_id)\n",
    "    similar_distances = distances.sort_values(ascending=False).iloc[:n]\n",
    "    return {vocab.get_itos()[id]: similar_distances[id] for id in similar_distances.index}"
   ],
   "metadata": {
    "collapsed": false
   }
  },
  {
   "cell_type": "code",
   "execution_count": 19,
   "outputs": [
    {
     "data": {
      "text/plain": "{'really': 0.99585295,\n 'want': 0.9918584,\n 'didn': 0.9839044,\n 'think': 0.9781511,\n 'doesn': 0.96299285,\n 'believe': 0.96082723,\n 'don': 0.9576585,\n 'wasn': 0.9570808,\n 'you': 0.9407921,\n 'mean': 0.9243557}"
     },
     "execution_count": 19,
     "metadata": {},
     "output_type": "execute_result"
    }
   ],
   "source": [
    "top_similar_words(df_embeddings, 'know', vocab, n=10)"
   ],
   "metadata": {
    "collapsed": false
   }
  },
  {
   "cell_type": "markdown",
   "source": [
    "# Vector equations"
   ],
   "metadata": {
    "collapsed": false
   }
  },
  {
   "cell_type": "code",
   "execution_count": 20,
   "outputs": [],
   "source": [
    "embed_1 = get_embedding(df_embeddings, vocab, 'man')\n",
    "embed_2 = get_embedding(df_embeddings, vocab, 'woman')\n",
    "embed_3 = get_embedding(df_embeddings, vocab, 'king')\n",
    "embed_4 = embed_3 - embed_1 + embed_2"
   ],
   "metadata": {
    "collapsed": false
   }
  },
  {
   "cell_type": "code",
   "execution_count": 21,
   "outputs": [
    {
     "data": {
      "text/plain": "{'opinion': 1.1277608,\n 'king': 1.1260895,\n 'atmosphere': 1.1182954,\n 'popularity': 1.1152412,\n 'mariana': 1.1134031,\n 'trujillo': 1.1068636,\n 'philosophy': 1.0924467,\n 'description': 1.090578,\n 'circumstances': 1.0867015,\n 'nation': 1.0761068}"
     },
     "execution_count": 21,
     "metadata": {},
     "output_type": "execute_result"
    }
   ],
   "source": [
    "top_n = top_similar_words(df_embeddings, embed_4, vocab, n=10)\n",
    "top_n"
   ],
   "metadata": {
    "collapsed": false
   }
  }
 ],
 "metadata": {
  "kernelspec": {
   "display_name": "Python 3",
   "language": "python",
   "name": "python3"
  },
  "language_info": {
   "codemirror_mode": {
    "name": "ipython",
    "version": 2
   },
   "file_extension": ".py",
   "mimetype": "text/x-python",
   "name": "python",
   "nbconvert_exporter": "python",
   "pygments_lexer": "ipython2",
   "version": "2.7.6"
  }
 },
 "nbformat": 4,
 "nbformat_minor": 0
}
