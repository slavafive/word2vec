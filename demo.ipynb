{
 "cells": [
  {
   "cell_type": "markdown",
   "source": [
    "# Import"
   ],
   "metadata": {
    "collapsed": false
   }
  },
  {
   "cell_type": "code",
   "execution_count": 1,
   "outputs": [],
   "source": [
    "import pandas as pd\n",
    "import numpy as np\n",
    "import plotly.express as px\n",
    "from sklearn.manifold import TSNE\n",
    "import torch"
   ],
   "metadata": {
    "collapsed": false
   }
  },
  {
   "cell_type": "code",
   "execution_count": 2,
   "outputs": [],
   "source": [
    "from word2vec.src.train import train\n",
    "from word2vec.src.utils import load_yaml"
   ],
   "metadata": {
    "collapsed": false
   }
  },
  {
   "cell_type": "markdown",
   "source": [
    "# Train model"
   ],
   "metadata": {
    "collapsed": false
   }
  },
  {
   "cell_type": "code",
   "execution_count": 3,
   "outputs": [
    {
     "data": {
      "text/plain": "{'model': 'CBOW',\n 'model_dir': 'artifacts',\n 'data_dir': 'data',\n 'epochs': 10,\n 'batch_size': 64,\n 'learning_rate': 0.05,\n 'checkpoint_frequency': 1,\n 'steps_train': 60,\n 'steps_val': 60,\n 'n_words': 4,\n 'min_word_frequency': 50,\n 'max_sequence_length': 256,\n 'embed_size': 50,\n 'embed_max_norm': 1}"
     },
     "execution_count": 3,
     "metadata": {},
     "output_type": "execute_result"
    }
   ],
   "source": [
    "config = load_yaml('config.yaml')\n",
    "config"
   ],
   "metadata": {
    "collapsed": false
   }
  },
  {
   "cell_type": "code",
   "execution_count": 4,
   "outputs": [
    {
     "name": "stdout",
     "output_type": "stream",
     "text": [
      "Vocabulary size: 4099\n",
      "Adjusting learning rate of group 0 to 5.0000e-02.\n",
      "Epoch 1 / 10. Train loss: 5.9044, Validation loss: 3.8893\n",
      "Adjusting learning rate of group 0 to 4.5000e-02.\n",
      "Epoch 2 / 10. Train loss: 5.4031, Validation loss: 3.9390\n",
      "Adjusting learning rate of group 0 to 4.0000e-02.\n",
      "Epoch 3 / 10. Train loss: 5.2968, Validation loss: 3.9414\n",
      "Adjusting learning rate of group 0 to 3.5000e-02.\n",
      "Epoch 4 / 10. Train loss: 5.2300, Validation loss: 3.9712\n",
      "Adjusting learning rate of group 0 to 3.0000e-02.\n",
      "Epoch 5 / 10. Train loss: 5.1643, Validation loss: 3.9180\n",
      "Adjusting learning rate of group 0 to 2.5000e-02.\n",
      "Epoch 6 / 10. Train loss: 5.1266, Validation loss: 3.9618\n",
      "Adjusting learning rate of group 0 to 2.0000e-02.\n",
      "Epoch 7 / 10. Train loss: 5.0710, Validation loss: 3.9375\n",
      "Adjusting learning rate of group 0 to 1.5000e-02.\n",
      "Epoch 8 / 10. Train loss: 5.0352, Validation loss: 3.9567\n",
      "Adjusting learning rate of group 0 to 1.0000e-02.\n",
      "Epoch 9 / 10. Train loss: 4.9881, Validation loss: 3.9715\n",
      "Adjusting learning rate of group 0 to 5.0000e-03.\n",
      "Epoch 10 / 10. Train loss: 4.9934, Validation loss: 3.9893\n",
      "Adjusting learning rate of group 0 to 0.0000e+00.\n",
      "Model artifacts are saved to folder: artifacts\n"
     ]
    }
   ],
   "source": [
    "train(config)"
   ],
   "metadata": {
    "collapsed": false
   }
  },
  {
   "cell_type": "markdown",
   "source": [
    "# Demo"
   ],
   "metadata": {
    "collapsed": false
   }
  },
  {
   "cell_type": "code",
   "execution_count": 5,
   "outputs": [],
   "source": [
    "device = torch.device('cuda' if torch.cuda.is_available() else 'cpu')\n",
    "model = torch.load(f\"{config['model_dir']}/model.pt\", map_location=device)\n",
    "vocab = torch.load(f\"{config['model_dir']}/vocab.pt\")"
   ],
   "metadata": {
    "collapsed": false
   }
  },
  {
   "cell_type": "code",
   "execution_count": 6,
   "outputs": [
    {
     "data": {
      "text/plain": "CBOW(\n  (embeddings): Embedding(4099, 50, max_norm=1)\n  (linear): Linear(in_features=50, out_features=4099, bias=True)\n)"
     },
     "execution_count": 6,
     "metadata": {},
     "output_type": "execute_result"
    }
   ],
   "source": [
    "model"
   ],
   "metadata": {
    "collapsed": false
   }
  },
  {
   "cell_type": "code",
   "execution_count": 7,
   "outputs": [
    {
     "data": {
      "text/plain": "            0         1         2         3         4         5         6   \\\n0    -0.098839 -0.172087 -0.264099 -0.038619  0.075173 -0.070824 -0.135515   \n1     0.105999 -0.059489 -0.060163  0.189818 -0.167095  0.290664  0.074730   \n2    -0.132155  0.101718  0.239807 -0.008616  0.018744 -0.070535 -0.162106   \n3    -0.017584  0.006306  0.256310 -0.015306  0.048258 -0.159094 -0.141126   \n4     0.263584  0.218560  0.235492 -0.103390  0.110942 -0.257304 -0.181631   \n...        ...       ...       ...       ...       ...       ...       ...   \n4094 -0.124015 -0.015919  0.259575  0.082721  0.046009 -0.221516 -0.058338   \n4095 -0.120657 -0.004297 -0.006341  0.085011 -0.122029  0.077089 -0.074074   \n4096 -0.180845 -0.218802 -0.167262  0.092539  0.053604  0.213206 -0.105693   \n4097 -0.220776 -0.076696 -0.250694  0.207355 -0.016029  0.036269 -0.099627   \n4098  0.026198  0.046769  0.008277 -0.262467 -0.066797 -0.325085 -0.116533   \n\n            7         8         9   ...        40        41        42  \\\n0     0.095532  0.163182  0.196603  ... -0.165546 -0.072509  0.110850   \n1    -0.030358  0.276500  0.011013  ...  0.133246  0.245132 -0.011315   \n2     0.121187 -0.104910  0.181329  ...  0.077887  0.291904  0.139919   \n3     0.052785 -0.102291  0.072849  ... -0.022162 -0.052363  0.202046   \n4    -0.072629  0.065196  0.113084  ... -0.089073 -0.050649 -0.012844   \n...        ...       ...       ...  ...       ...       ...       ...   \n4094  0.055235 -0.240489  0.101589  ... -0.137392 -0.047196 -0.153564   \n4095 -0.066900 -0.017804  0.061503  ... -0.072031 -0.146721  0.034227   \n4096  0.140111  0.051984  0.227320  ... -0.078821  0.090479  0.181083   \n4097  0.284319 -0.117931  0.067102  ...  0.027536 -0.241473  0.003752   \n4098 -0.009252 -0.107852  0.053092  ... -0.250043 -0.262795  0.051590   \n\n            43        44        45        46        47        48        49  \n0     0.142184 -0.019874 -0.030324  0.014605  0.149147  0.103493 -0.067403  \n1    -0.029615 -0.196696  0.126419  0.213309 -0.205289  0.256524 -0.201837  \n2     0.102379  0.156431 -0.196776  0.038186 -0.008581 -0.226810 -0.040487  \n3    -0.042181 -0.144830 -0.088500  0.069987 -0.146259 -0.161737  0.110107  \n4    -0.126360  0.176091  0.119329 -0.052967  0.130097  0.108904  0.256307  \n...        ...       ...       ...       ...       ...       ...       ...  \n4094 -0.079983  0.246937  0.149794 -0.048018  0.048593  0.076900  0.290880  \n4095 -0.002492 -0.120996  0.092408 -0.002568  0.002689 -0.017679  0.023213  \n4096  0.208519 -0.012982 -0.028508 -0.295906  0.008079  0.231796 -0.013389  \n4097  0.085492  0.354816  0.022406 -0.121308  0.020005 -0.071856 -0.121679  \n4098  0.166433  0.013202  0.069101 -0.033563  0.085234  0.327808 -0.183042  \n\n[4099 rows x 50 columns]",
      "text/html": "<div>\n<style scoped>\n    .dataframe tbody tr th:only-of-type {\n        vertical-align: middle;\n    }\n\n    .dataframe tbody tr th {\n        vertical-align: top;\n    }\n\n    .dataframe thead th {\n        text-align: right;\n    }\n</style>\n<table border=\"1\" class=\"dataframe\">\n  <thead>\n    <tr style=\"text-align: right;\">\n      <th></th>\n      <th>0</th>\n      <th>1</th>\n      <th>2</th>\n      <th>3</th>\n      <th>4</th>\n      <th>5</th>\n      <th>6</th>\n      <th>7</th>\n      <th>8</th>\n      <th>9</th>\n      <th>...</th>\n      <th>40</th>\n      <th>41</th>\n      <th>42</th>\n      <th>43</th>\n      <th>44</th>\n      <th>45</th>\n      <th>46</th>\n      <th>47</th>\n      <th>48</th>\n      <th>49</th>\n    </tr>\n  </thead>\n  <tbody>\n    <tr>\n      <th>0</th>\n      <td>-0.098839</td>\n      <td>-0.172087</td>\n      <td>-0.264099</td>\n      <td>-0.038619</td>\n      <td>0.075173</td>\n      <td>-0.070824</td>\n      <td>-0.135515</td>\n      <td>0.095532</td>\n      <td>0.163182</td>\n      <td>0.196603</td>\n      <td>...</td>\n      <td>-0.165546</td>\n      <td>-0.072509</td>\n      <td>0.110850</td>\n      <td>0.142184</td>\n      <td>-0.019874</td>\n      <td>-0.030324</td>\n      <td>0.014605</td>\n      <td>0.149147</td>\n      <td>0.103493</td>\n      <td>-0.067403</td>\n    </tr>\n    <tr>\n      <th>1</th>\n      <td>0.105999</td>\n      <td>-0.059489</td>\n      <td>-0.060163</td>\n      <td>0.189818</td>\n      <td>-0.167095</td>\n      <td>0.290664</td>\n      <td>0.074730</td>\n      <td>-0.030358</td>\n      <td>0.276500</td>\n      <td>0.011013</td>\n      <td>...</td>\n      <td>0.133246</td>\n      <td>0.245132</td>\n      <td>-0.011315</td>\n      <td>-0.029615</td>\n      <td>-0.196696</td>\n      <td>0.126419</td>\n      <td>0.213309</td>\n      <td>-0.205289</td>\n      <td>0.256524</td>\n      <td>-0.201837</td>\n    </tr>\n    <tr>\n      <th>2</th>\n      <td>-0.132155</td>\n      <td>0.101718</td>\n      <td>0.239807</td>\n      <td>-0.008616</td>\n      <td>0.018744</td>\n      <td>-0.070535</td>\n      <td>-0.162106</td>\n      <td>0.121187</td>\n      <td>-0.104910</td>\n      <td>0.181329</td>\n      <td>...</td>\n      <td>0.077887</td>\n      <td>0.291904</td>\n      <td>0.139919</td>\n      <td>0.102379</td>\n      <td>0.156431</td>\n      <td>-0.196776</td>\n      <td>0.038186</td>\n      <td>-0.008581</td>\n      <td>-0.226810</td>\n      <td>-0.040487</td>\n    </tr>\n    <tr>\n      <th>3</th>\n      <td>-0.017584</td>\n      <td>0.006306</td>\n      <td>0.256310</td>\n      <td>-0.015306</td>\n      <td>0.048258</td>\n      <td>-0.159094</td>\n      <td>-0.141126</td>\n      <td>0.052785</td>\n      <td>-0.102291</td>\n      <td>0.072849</td>\n      <td>...</td>\n      <td>-0.022162</td>\n      <td>-0.052363</td>\n      <td>0.202046</td>\n      <td>-0.042181</td>\n      <td>-0.144830</td>\n      <td>-0.088500</td>\n      <td>0.069987</td>\n      <td>-0.146259</td>\n      <td>-0.161737</td>\n      <td>0.110107</td>\n    </tr>\n    <tr>\n      <th>4</th>\n      <td>0.263584</td>\n      <td>0.218560</td>\n      <td>0.235492</td>\n      <td>-0.103390</td>\n      <td>0.110942</td>\n      <td>-0.257304</td>\n      <td>-0.181631</td>\n      <td>-0.072629</td>\n      <td>0.065196</td>\n      <td>0.113084</td>\n      <td>...</td>\n      <td>-0.089073</td>\n      <td>-0.050649</td>\n      <td>-0.012844</td>\n      <td>-0.126360</td>\n      <td>0.176091</td>\n      <td>0.119329</td>\n      <td>-0.052967</td>\n      <td>0.130097</td>\n      <td>0.108904</td>\n      <td>0.256307</td>\n    </tr>\n    <tr>\n      <th>...</th>\n      <td>...</td>\n      <td>...</td>\n      <td>...</td>\n      <td>...</td>\n      <td>...</td>\n      <td>...</td>\n      <td>...</td>\n      <td>...</td>\n      <td>...</td>\n      <td>...</td>\n      <td>...</td>\n      <td>...</td>\n      <td>...</td>\n      <td>...</td>\n      <td>...</td>\n      <td>...</td>\n      <td>...</td>\n      <td>...</td>\n      <td>...</td>\n      <td>...</td>\n      <td>...</td>\n    </tr>\n    <tr>\n      <th>4094</th>\n      <td>-0.124015</td>\n      <td>-0.015919</td>\n      <td>0.259575</td>\n      <td>0.082721</td>\n      <td>0.046009</td>\n      <td>-0.221516</td>\n      <td>-0.058338</td>\n      <td>0.055235</td>\n      <td>-0.240489</td>\n      <td>0.101589</td>\n      <td>...</td>\n      <td>-0.137392</td>\n      <td>-0.047196</td>\n      <td>-0.153564</td>\n      <td>-0.079983</td>\n      <td>0.246937</td>\n      <td>0.149794</td>\n      <td>-0.048018</td>\n      <td>0.048593</td>\n      <td>0.076900</td>\n      <td>0.290880</td>\n    </tr>\n    <tr>\n      <th>4095</th>\n      <td>-0.120657</td>\n      <td>-0.004297</td>\n      <td>-0.006341</td>\n      <td>0.085011</td>\n      <td>-0.122029</td>\n      <td>0.077089</td>\n      <td>-0.074074</td>\n      <td>-0.066900</td>\n      <td>-0.017804</td>\n      <td>0.061503</td>\n      <td>...</td>\n      <td>-0.072031</td>\n      <td>-0.146721</td>\n      <td>0.034227</td>\n      <td>-0.002492</td>\n      <td>-0.120996</td>\n      <td>0.092408</td>\n      <td>-0.002568</td>\n      <td>0.002689</td>\n      <td>-0.017679</td>\n      <td>0.023213</td>\n    </tr>\n    <tr>\n      <th>4096</th>\n      <td>-0.180845</td>\n      <td>-0.218802</td>\n      <td>-0.167262</td>\n      <td>0.092539</td>\n      <td>0.053604</td>\n      <td>0.213206</td>\n      <td>-0.105693</td>\n      <td>0.140111</td>\n      <td>0.051984</td>\n      <td>0.227320</td>\n      <td>...</td>\n      <td>-0.078821</td>\n      <td>0.090479</td>\n      <td>0.181083</td>\n      <td>0.208519</td>\n      <td>-0.012982</td>\n      <td>-0.028508</td>\n      <td>-0.295906</td>\n      <td>0.008079</td>\n      <td>0.231796</td>\n      <td>-0.013389</td>\n    </tr>\n    <tr>\n      <th>4097</th>\n      <td>-0.220776</td>\n      <td>-0.076696</td>\n      <td>-0.250694</td>\n      <td>0.207355</td>\n      <td>-0.016029</td>\n      <td>0.036269</td>\n      <td>-0.099627</td>\n      <td>0.284319</td>\n      <td>-0.117931</td>\n      <td>0.067102</td>\n      <td>...</td>\n      <td>0.027536</td>\n      <td>-0.241473</td>\n      <td>0.003752</td>\n      <td>0.085492</td>\n      <td>0.354816</td>\n      <td>0.022406</td>\n      <td>-0.121308</td>\n      <td>0.020005</td>\n      <td>-0.071856</td>\n      <td>-0.121679</td>\n    </tr>\n    <tr>\n      <th>4098</th>\n      <td>0.026198</td>\n      <td>0.046769</td>\n      <td>0.008277</td>\n      <td>-0.262467</td>\n      <td>-0.066797</td>\n      <td>-0.325085</td>\n      <td>-0.116533</td>\n      <td>-0.009252</td>\n      <td>-0.107852</td>\n      <td>0.053092</td>\n      <td>...</td>\n      <td>-0.250043</td>\n      <td>-0.262795</td>\n      <td>0.051590</td>\n      <td>0.166433</td>\n      <td>0.013202</td>\n      <td>0.069101</td>\n      <td>-0.033563</td>\n      <td>0.085234</td>\n      <td>0.327808</td>\n      <td>-0.183042</td>\n    </tr>\n  </tbody>\n</table>\n<p>4099 rows × 50 columns</p>\n</div>"
     },
     "execution_count": 7,
     "metadata": {},
     "output_type": "execute_result"
    }
   ],
   "source": [
    "embeddings = list(model.parameters())[0]\n",
    "embeddings = embeddings.detach().numpy()\n",
    "df_embeddings = pd.DataFrame(embeddings)\n",
    "df_embeddings"
   ],
   "metadata": {
    "collapsed": false
   }
  },
  {
   "cell_type": "markdown",
   "source": [
    "# Visualisation"
   ],
   "metadata": {
    "collapsed": false
   }
  },
  {
   "cell_type": "code",
   "execution_count": 8,
   "outputs": [],
   "source": [
    "tsne = TSNE(n_components=2)\n",
    "df_embeddings_transformed = pd.DataFrame(tsne.fit_transform(df_embeddings))\n",
    "df_embeddings_transformed.index = vocab.get_itos()\n",
    "df_embeddings_transformed.rename(columns={0: 'x', 1: 'y'}, inplace=True)"
   ],
   "metadata": {
    "collapsed": false
   }
  },
  {
   "cell_type": "code",
   "execution_count": 20,
   "outputs": [
    {
     "data": {
      "application/vnd.plotly.v1+json": {
       "data": [
        {
         "hovertemplate": "x=%{x}<br>y=%{y}<br>index=%{text}<extra></extra>",
         "legendgroup": "",
         "marker": {
          "color": "#636efa",
          "symbol": "circle"
         },
         "mode": "markers+text",
         "name": "",
         "orientation": "v",
         "showlegend": false,
         "text": [
          "wide",
          "israeli",
          "natural",
          "conduct",
          "1900",
          "existed",
          "1",
          "tournament",
          "view",
          "1953",
          "gods",
          "rating",
          "constructed",
          "spain",
          "appeal",
          "altar",
          "crew",
          "acquired",
          "biography",
          "locations",
          "formerly",
          "also",
          "21st",
          "exist",
          "eagle",
          "owned",
          "along",
          "republic",
          "holds",
          "peninsula",
          "smith",
          "sons",
          "equal",
          "level",
          "covered",
          "gully",
          "offices",
          "disc",
          "things",
          "exposed",
          "reports",
          "gameplay",
          "low",
          "critical",
          "medical",
          "elements",
          "nielsen",
          "picture",
          "1980",
          "brien"
         ],
         "x": [
          -33.318294525146484,
          14.413542747497559,
          -39.440818786621094,
          10.555848121643066,
          36.258506774902344,
          -16.784120559692383,
          4.046825408935547,
          21.538419723510742,
          -15.195317268371582,
          38.540679931640625,
          -26.96852684020996,
          -8.93335247039795,
          21.5931453704834,
          -4.444576263427734,
          -5.5238356590271,
          -14.30191421508789,
          -4.098668098449707,
          23.069852828979492,
          21.478912353515625,
          -47.09835433959961,
          -40.69974136352539,
          -1.6283581256866455,
          4.387359619140625,
          -29.563053131103516,
          -24.137531280517578,
          25.067928314208984,
          -26.39263916015625,
          -9.150278091430664,
          19.949308395385742,
          -16.300432205200195,
          40.665382385253906,
          28.204647064208984,
          -55.742713928222656,
          -35.385738372802734,
          7.827756404876709,
          -16.652978897094727,
          -26.98922348022461,
          -1.0193753242492676,
          -38.33510971069336,
          -17.14949607849121,
          -35.019351959228516,
          -14.613459587097168,
          -35.673030853271484,
          29.964143753051758,
          -37.084259033203125,
          -33.85930633544922,
          -8.93659496307373,
          17.666423797607422,
          32.05577850341797,
          50.5073127746582
         ],
         "xaxis": "x",
         "y": [
          23.49363136291504,
          -1.5617964267730713,
          -5.050343990325928,
          -13.743020057678223,
          34.61925506591797,
          -28.333269119262695,
          57.76358413696289,
          31.6171875,
          -6.237606048583984,
          42.96730422973633,
          -16.996030807495117,
          57.60917663574219,
          -0.9296720623970032,
          28.56446647644043,
          -14.888686180114746,
          10.820958137512207,
          -2.660067319869995,
          -11.712213516235352,
          -21.00786781311035,
          0.847600519657135,
          8.159377098083496,
          -36.5905876159668,
          19.522130966186523,
          -38.14789581298828,
          21.771032333374023,
          -8.15539836883545,
          19.318744659423828,
          8.803577423095703,
          -45.380985260009766,
          14.559268951416016,
          -15.530587196350098,
          -21.427583694458008,
          -3.4445388317108154,
          23.30172348022461,
          -26.746360778808594,
          14.308753967285156,
          -31.515178680419922,
          35.12942123413086,
          -30.568626403808594,
          -37.501548767089844,
          -13.834684371948242,
          -14.633829116821289,
          22.804380416870117,
          0.06721609085798264,
          -26.88625144958496,
          -12.489511489868164,
          57.62473678588867,
          -18.86058807373047,
          40.32813262939453,
          -26.63900375366211
         ],
         "yaxis": "y",
         "type": "scatter",
         "textposition": "top center"
        }
       ],
       "layout": {
        "template": {
         "data": {
          "histogram2dcontour": [
           {
            "type": "histogram2dcontour",
            "colorbar": {
             "outlinewidth": 0,
             "ticks": ""
            },
            "colorscale": [
             [
              0.0,
              "#0d0887"
             ],
             [
              0.1111111111111111,
              "#46039f"
             ],
             [
              0.2222222222222222,
              "#7201a8"
             ],
             [
              0.3333333333333333,
              "#9c179e"
             ],
             [
              0.4444444444444444,
              "#bd3786"
             ],
             [
              0.5555555555555556,
              "#d8576b"
             ],
             [
              0.6666666666666666,
              "#ed7953"
             ],
             [
              0.7777777777777778,
              "#fb9f3a"
             ],
             [
              0.8888888888888888,
              "#fdca26"
             ],
             [
              1.0,
              "#f0f921"
             ]
            ]
           }
          ],
          "choropleth": [
           {
            "type": "choropleth",
            "colorbar": {
             "outlinewidth": 0,
             "ticks": ""
            }
           }
          ],
          "histogram2d": [
           {
            "type": "histogram2d",
            "colorbar": {
             "outlinewidth": 0,
             "ticks": ""
            },
            "colorscale": [
             [
              0.0,
              "#0d0887"
             ],
             [
              0.1111111111111111,
              "#46039f"
             ],
             [
              0.2222222222222222,
              "#7201a8"
             ],
             [
              0.3333333333333333,
              "#9c179e"
             ],
             [
              0.4444444444444444,
              "#bd3786"
             ],
             [
              0.5555555555555556,
              "#d8576b"
             ],
             [
              0.6666666666666666,
              "#ed7953"
             ],
             [
              0.7777777777777778,
              "#fb9f3a"
             ],
             [
              0.8888888888888888,
              "#fdca26"
             ],
             [
              1.0,
              "#f0f921"
             ]
            ]
           }
          ],
          "heatmap": [
           {
            "type": "heatmap",
            "colorbar": {
             "outlinewidth": 0,
             "ticks": ""
            },
            "colorscale": [
             [
              0.0,
              "#0d0887"
             ],
             [
              0.1111111111111111,
              "#46039f"
             ],
             [
              0.2222222222222222,
              "#7201a8"
             ],
             [
              0.3333333333333333,
              "#9c179e"
             ],
             [
              0.4444444444444444,
              "#bd3786"
             ],
             [
              0.5555555555555556,
              "#d8576b"
             ],
             [
              0.6666666666666666,
              "#ed7953"
             ],
             [
              0.7777777777777778,
              "#fb9f3a"
             ],
             [
              0.8888888888888888,
              "#fdca26"
             ],
             [
              1.0,
              "#f0f921"
             ]
            ]
           }
          ],
          "heatmapgl": [
           {
            "type": "heatmapgl",
            "colorbar": {
             "outlinewidth": 0,
             "ticks": ""
            },
            "colorscale": [
             [
              0.0,
              "#0d0887"
             ],
             [
              0.1111111111111111,
              "#46039f"
             ],
             [
              0.2222222222222222,
              "#7201a8"
             ],
             [
              0.3333333333333333,
              "#9c179e"
             ],
             [
              0.4444444444444444,
              "#bd3786"
             ],
             [
              0.5555555555555556,
              "#d8576b"
             ],
             [
              0.6666666666666666,
              "#ed7953"
             ],
             [
              0.7777777777777778,
              "#fb9f3a"
             ],
             [
              0.8888888888888888,
              "#fdca26"
             ],
             [
              1.0,
              "#f0f921"
             ]
            ]
           }
          ],
          "contourcarpet": [
           {
            "type": "contourcarpet",
            "colorbar": {
             "outlinewidth": 0,
             "ticks": ""
            }
           }
          ],
          "contour": [
           {
            "type": "contour",
            "colorbar": {
             "outlinewidth": 0,
             "ticks": ""
            },
            "colorscale": [
             [
              0.0,
              "#0d0887"
             ],
             [
              0.1111111111111111,
              "#46039f"
             ],
             [
              0.2222222222222222,
              "#7201a8"
             ],
             [
              0.3333333333333333,
              "#9c179e"
             ],
             [
              0.4444444444444444,
              "#bd3786"
             ],
             [
              0.5555555555555556,
              "#d8576b"
             ],
             [
              0.6666666666666666,
              "#ed7953"
             ],
             [
              0.7777777777777778,
              "#fb9f3a"
             ],
             [
              0.8888888888888888,
              "#fdca26"
             ],
             [
              1.0,
              "#f0f921"
             ]
            ]
           }
          ],
          "surface": [
           {
            "type": "surface",
            "colorbar": {
             "outlinewidth": 0,
             "ticks": ""
            },
            "colorscale": [
             [
              0.0,
              "#0d0887"
             ],
             [
              0.1111111111111111,
              "#46039f"
             ],
             [
              0.2222222222222222,
              "#7201a8"
             ],
             [
              0.3333333333333333,
              "#9c179e"
             ],
             [
              0.4444444444444444,
              "#bd3786"
             ],
             [
              0.5555555555555556,
              "#d8576b"
             ],
             [
              0.6666666666666666,
              "#ed7953"
             ],
             [
              0.7777777777777778,
              "#fb9f3a"
             ],
             [
              0.8888888888888888,
              "#fdca26"
             ],
             [
              1.0,
              "#f0f921"
             ]
            ]
           }
          ],
          "mesh3d": [
           {
            "type": "mesh3d",
            "colorbar": {
             "outlinewidth": 0,
             "ticks": ""
            }
           }
          ],
          "scatter": [
           {
            "fillpattern": {
             "fillmode": "overlay",
             "size": 10,
             "solidity": 0.2
            },
            "type": "scatter"
           }
          ],
          "parcoords": [
           {
            "type": "parcoords",
            "line": {
             "colorbar": {
              "outlinewidth": 0,
              "ticks": ""
             }
            }
           }
          ],
          "scatterpolargl": [
           {
            "type": "scatterpolargl",
            "marker": {
             "colorbar": {
              "outlinewidth": 0,
              "ticks": ""
             }
            }
           }
          ],
          "bar": [
           {
            "error_x": {
             "color": "#2a3f5f"
            },
            "error_y": {
             "color": "#2a3f5f"
            },
            "marker": {
             "line": {
              "color": "#E5ECF6",
              "width": 0.5
             },
             "pattern": {
              "fillmode": "overlay",
              "size": 10,
              "solidity": 0.2
             }
            },
            "type": "bar"
           }
          ],
          "scattergeo": [
           {
            "type": "scattergeo",
            "marker": {
             "colorbar": {
              "outlinewidth": 0,
              "ticks": ""
             }
            }
           }
          ],
          "scatterpolar": [
           {
            "type": "scatterpolar",
            "marker": {
             "colorbar": {
              "outlinewidth": 0,
              "ticks": ""
             }
            }
           }
          ],
          "histogram": [
           {
            "marker": {
             "pattern": {
              "fillmode": "overlay",
              "size": 10,
              "solidity": 0.2
             }
            },
            "type": "histogram"
           }
          ],
          "scattergl": [
           {
            "type": "scattergl",
            "marker": {
             "colorbar": {
              "outlinewidth": 0,
              "ticks": ""
             }
            }
           }
          ],
          "scatter3d": [
           {
            "type": "scatter3d",
            "line": {
             "colorbar": {
              "outlinewidth": 0,
              "ticks": ""
             }
            },
            "marker": {
             "colorbar": {
              "outlinewidth": 0,
              "ticks": ""
             }
            }
           }
          ],
          "scattermapbox": [
           {
            "type": "scattermapbox",
            "marker": {
             "colorbar": {
              "outlinewidth": 0,
              "ticks": ""
             }
            }
           }
          ],
          "scatterternary": [
           {
            "type": "scatterternary",
            "marker": {
             "colorbar": {
              "outlinewidth": 0,
              "ticks": ""
             }
            }
           }
          ],
          "scattercarpet": [
           {
            "type": "scattercarpet",
            "marker": {
             "colorbar": {
              "outlinewidth": 0,
              "ticks": ""
             }
            }
           }
          ],
          "carpet": [
           {
            "aaxis": {
             "endlinecolor": "#2a3f5f",
             "gridcolor": "white",
             "linecolor": "white",
             "minorgridcolor": "white",
             "startlinecolor": "#2a3f5f"
            },
            "baxis": {
             "endlinecolor": "#2a3f5f",
             "gridcolor": "white",
             "linecolor": "white",
             "minorgridcolor": "white",
             "startlinecolor": "#2a3f5f"
            },
            "type": "carpet"
           }
          ],
          "table": [
           {
            "cells": {
             "fill": {
              "color": "#EBF0F8"
             },
             "line": {
              "color": "white"
             }
            },
            "header": {
             "fill": {
              "color": "#C8D4E3"
             },
             "line": {
              "color": "white"
             }
            },
            "type": "table"
           }
          ],
          "barpolar": [
           {
            "marker": {
             "line": {
              "color": "#E5ECF6",
              "width": 0.5
             },
             "pattern": {
              "fillmode": "overlay",
              "size": 10,
              "solidity": 0.2
             }
            },
            "type": "barpolar"
           }
          ],
          "pie": [
           {
            "automargin": true,
            "type": "pie"
           }
          ]
         },
         "layout": {
          "autotypenumbers": "strict",
          "colorway": [
           "#636efa",
           "#EF553B",
           "#00cc96",
           "#ab63fa",
           "#FFA15A",
           "#19d3f3",
           "#FF6692",
           "#B6E880",
           "#FF97FF",
           "#FECB52"
          ],
          "font": {
           "color": "#2a3f5f"
          },
          "hovermode": "closest",
          "hoverlabel": {
           "align": "left"
          },
          "paper_bgcolor": "white",
          "plot_bgcolor": "#E5ECF6",
          "polar": {
           "bgcolor": "#E5ECF6",
           "angularaxis": {
            "gridcolor": "white",
            "linecolor": "white",
            "ticks": ""
           },
           "radialaxis": {
            "gridcolor": "white",
            "linecolor": "white",
            "ticks": ""
           }
          },
          "ternary": {
           "bgcolor": "#E5ECF6",
           "aaxis": {
            "gridcolor": "white",
            "linecolor": "white",
            "ticks": ""
           },
           "baxis": {
            "gridcolor": "white",
            "linecolor": "white",
            "ticks": ""
           },
           "caxis": {
            "gridcolor": "white",
            "linecolor": "white",
            "ticks": ""
           }
          },
          "coloraxis": {
           "colorbar": {
            "outlinewidth": 0,
            "ticks": ""
           }
          },
          "colorscale": {
           "sequential": [
            [
             0.0,
             "#0d0887"
            ],
            [
             0.1111111111111111,
             "#46039f"
            ],
            [
             0.2222222222222222,
             "#7201a8"
            ],
            [
             0.3333333333333333,
             "#9c179e"
            ],
            [
             0.4444444444444444,
             "#bd3786"
            ],
            [
             0.5555555555555556,
             "#d8576b"
            ],
            [
             0.6666666666666666,
             "#ed7953"
            ],
            [
             0.7777777777777778,
             "#fb9f3a"
            ],
            [
             0.8888888888888888,
             "#fdca26"
            ],
            [
             1.0,
             "#f0f921"
            ]
           ],
           "sequentialminus": [
            [
             0.0,
             "#0d0887"
            ],
            [
             0.1111111111111111,
             "#46039f"
            ],
            [
             0.2222222222222222,
             "#7201a8"
            ],
            [
             0.3333333333333333,
             "#9c179e"
            ],
            [
             0.4444444444444444,
             "#bd3786"
            ],
            [
             0.5555555555555556,
             "#d8576b"
            ],
            [
             0.6666666666666666,
             "#ed7953"
            ],
            [
             0.7777777777777778,
             "#fb9f3a"
            ],
            [
             0.8888888888888888,
             "#fdca26"
            ],
            [
             1.0,
             "#f0f921"
            ]
           ],
           "diverging": [
            [
             0,
             "#8e0152"
            ],
            [
             0.1,
             "#c51b7d"
            ],
            [
             0.2,
             "#de77ae"
            ],
            [
             0.3,
             "#f1b6da"
            ],
            [
             0.4,
             "#fde0ef"
            ],
            [
             0.5,
             "#f7f7f7"
            ],
            [
             0.6,
             "#e6f5d0"
            ],
            [
             0.7,
             "#b8e186"
            ],
            [
             0.8,
             "#7fbc41"
            ],
            [
             0.9,
             "#4d9221"
            ],
            [
             1,
             "#276419"
            ]
           ]
          },
          "xaxis": {
           "gridcolor": "white",
           "linecolor": "white",
           "ticks": "",
           "title": {
            "standoff": 15
           },
           "zerolinecolor": "white",
           "automargin": true,
           "zerolinewidth": 2
          },
          "yaxis": {
           "gridcolor": "white",
           "linecolor": "white",
           "ticks": "",
           "title": {
            "standoff": 15
           },
           "zerolinecolor": "white",
           "automargin": true,
           "zerolinewidth": 2
          },
          "scene": {
           "xaxis": {
            "backgroundcolor": "#E5ECF6",
            "gridcolor": "white",
            "linecolor": "white",
            "showbackground": true,
            "ticks": "",
            "zerolinecolor": "white",
            "gridwidth": 2
           },
           "yaxis": {
            "backgroundcolor": "#E5ECF6",
            "gridcolor": "white",
            "linecolor": "white",
            "showbackground": true,
            "ticks": "",
            "zerolinecolor": "white",
            "gridwidth": 2
           },
           "zaxis": {
            "backgroundcolor": "#E5ECF6",
            "gridcolor": "white",
            "linecolor": "white",
            "showbackground": true,
            "ticks": "",
            "zerolinecolor": "white",
            "gridwidth": 2
           }
          },
          "shapedefaults": {
           "line": {
            "color": "#2a3f5f"
           }
          },
          "annotationdefaults": {
           "arrowcolor": "#2a3f5f",
           "arrowhead": 0,
           "arrowwidth": 1
          },
          "geo": {
           "bgcolor": "white",
           "landcolor": "#E5ECF6",
           "subunitcolor": "white",
           "showland": true,
           "showlakes": true,
           "lakecolor": "white"
          },
          "title": {
           "x": 0.05
          },
          "mapbox": {
           "style": "light"
          }
         }
        },
        "xaxis": {
         "anchor": "y",
         "domain": [
          0.0,
          1.0
         ],
         "title": {
          "text": "x"
         }
        },
        "yaxis": {
         "anchor": "x",
         "domain": [
          0.0,
          1.0
         ],
         "title": {
          "text": "y"
         }
        },
        "legend": {
         "tracegroupgap": 0
        },
        "margin": {
         "t": 60
        },
        "title": {
         "text": "Visualisation of words using t-SNE algorithm"
        },
        "height": 800
       },
       "config": {
        "plotlyServerURL": "https://plot.ly"
       }
      },
      "text/html": "<div>                            <div id=\"55d6c1ae-ab21-4287-8fea-276833054a6d\" class=\"plotly-graph-div\" style=\"height:800px; width:100%;\"></div>            <script type=\"text/javascript\">                require([\"plotly\"], function(Plotly) {                    window.PLOTLYENV=window.PLOTLYENV || {};                                    if (document.getElementById(\"55d6c1ae-ab21-4287-8fea-276833054a6d\")) {                    Plotly.newPlot(                        \"55d6c1ae-ab21-4287-8fea-276833054a6d\",                        [{\"hovertemplate\":\"x=%{x}<br>y=%{y}<br>index=%{text}<extra></extra>\",\"legendgroup\":\"\",\"marker\":{\"color\":\"#636efa\",\"symbol\":\"circle\"},\"mode\":\"markers+text\",\"name\":\"\",\"orientation\":\"v\",\"showlegend\":false,\"text\":[\"wide\",\"israeli\",\"natural\",\"conduct\",\"1900\",\"existed\",\"1\",\"tournament\",\"view\",\"1953\",\"gods\",\"rating\",\"constructed\",\"spain\",\"appeal\",\"altar\",\"crew\",\"acquired\",\"biography\",\"locations\",\"formerly\",\"also\",\"21st\",\"exist\",\"eagle\",\"owned\",\"along\",\"republic\",\"holds\",\"peninsula\",\"smith\",\"sons\",\"equal\",\"level\",\"covered\",\"gully\",\"offices\",\"disc\",\"things\",\"exposed\",\"reports\",\"gameplay\",\"low\",\"critical\",\"medical\",\"elements\",\"nielsen\",\"picture\",\"1980\",\"brien\"],\"x\":[-33.318294525146484,14.413542747497559,-39.440818786621094,10.555848121643066,36.258506774902344,-16.784120559692383,4.046825408935547,21.538419723510742,-15.195317268371582,38.540679931640625,-26.96852684020996,-8.93335247039795,21.5931453704834,-4.444576263427734,-5.5238356590271,-14.30191421508789,-4.098668098449707,23.069852828979492,21.478912353515625,-47.09835433959961,-40.69974136352539,-1.6283581256866455,4.387359619140625,-29.563053131103516,-24.137531280517578,25.067928314208984,-26.39263916015625,-9.150278091430664,19.949308395385742,-16.300432205200195,40.665382385253906,28.204647064208984,-55.742713928222656,-35.385738372802734,7.827756404876709,-16.652978897094727,-26.98922348022461,-1.0193753242492676,-38.33510971069336,-17.14949607849121,-35.019351959228516,-14.613459587097168,-35.673030853271484,29.964143753051758,-37.084259033203125,-33.85930633544922,-8.93659496307373,17.666423797607422,32.05577850341797,50.5073127746582],\"xaxis\":\"x\",\"y\":[23.49363136291504,-1.5617964267730713,-5.050343990325928,-13.743020057678223,34.61925506591797,-28.333269119262695,57.76358413696289,31.6171875,-6.237606048583984,42.96730422973633,-16.996030807495117,57.60917663574219,-0.9296720623970032,28.56446647644043,-14.888686180114746,10.820958137512207,-2.660067319869995,-11.712213516235352,-21.00786781311035,0.847600519657135,8.159377098083496,-36.5905876159668,19.522130966186523,-38.14789581298828,21.771032333374023,-8.15539836883545,19.318744659423828,8.803577423095703,-45.380985260009766,14.559268951416016,-15.530587196350098,-21.427583694458008,-3.4445388317108154,23.30172348022461,-26.746360778808594,14.308753967285156,-31.515178680419922,35.12942123413086,-30.568626403808594,-37.501548767089844,-13.834684371948242,-14.633829116821289,22.804380416870117,0.06721609085798264,-26.88625144958496,-12.489511489868164,57.62473678588867,-18.86058807373047,40.32813262939453,-26.63900375366211],\"yaxis\":\"y\",\"type\":\"scatter\",\"textposition\":\"top center\"}],                        {\"template\":{\"data\":{\"histogram2dcontour\":[{\"type\":\"histogram2dcontour\",\"colorbar\":{\"outlinewidth\":0,\"ticks\":\"\"},\"colorscale\":[[0.0,\"#0d0887\"],[0.1111111111111111,\"#46039f\"],[0.2222222222222222,\"#7201a8\"],[0.3333333333333333,\"#9c179e\"],[0.4444444444444444,\"#bd3786\"],[0.5555555555555556,\"#d8576b\"],[0.6666666666666666,\"#ed7953\"],[0.7777777777777778,\"#fb9f3a\"],[0.8888888888888888,\"#fdca26\"],[1.0,\"#f0f921\"]]}],\"choropleth\":[{\"type\":\"choropleth\",\"colorbar\":{\"outlinewidth\":0,\"ticks\":\"\"}}],\"histogram2d\":[{\"type\":\"histogram2d\",\"colorbar\":{\"outlinewidth\":0,\"ticks\":\"\"},\"colorscale\":[[0.0,\"#0d0887\"],[0.1111111111111111,\"#46039f\"],[0.2222222222222222,\"#7201a8\"],[0.3333333333333333,\"#9c179e\"],[0.4444444444444444,\"#bd3786\"],[0.5555555555555556,\"#d8576b\"],[0.6666666666666666,\"#ed7953\"],[0.7777777777777778,\"#fb9f3a\"],[0.8888888888888888,\"#fdca26\"],[1.0,\"#f0f921\"]]}],\"heatmap\":[{\"type\":\"heatmap\",\"colorbar\":{\"outlinewidth\":0,\"ticks\":\"\"},\"colorscale\":[[0.0,\"#0d0887\"],[0.1111111111111111,\"#46039f\"],[0.2222222222222222,\"#7201a8\"],[0.3333333333333333,\"#9c179e\"],[0.4444444444444444,\"#bd3786\"],[0.5555555555555556,\"#d8576b\"],[0.6666666666666666,\"#ed7953\"],[0.7777777777777778,\"#fb9f3a\"],[0.8888888888888888,\"#fdca26\"],[1.0,\"#f0f921\"]]}],\"heatmapgl\":[{\"type\":\"heatmapgl\",\"colorbar\":{\"outlinewidth\":0,\"ticks\":\"\"},\"colorscale\":[[0.0,\"#0d0887\"],[0.1111111111111111,\"#46039f\"],[0.2222222222222222,\"#7201a8\"],[0.3333333333333333,\"#9c179e\"],[0.4444444444444444,\"#bd3786\"],[0.5555555555555556,\"#d8576b\"],[0.6666666666666666,\"#ed7953\"],[0.7777777777777778,\"#fb9f3a\"],[0.8888888888888888,\"#fdca26\"],[1.0,\"#f0f921\"]]}],\"contourcarpet\":[{\"type\":\"contourcarpet\",\"colorbar\":{\"outlinewidth\":0,\"ticks\":\"\"}}],\"contour\":[{\"type\":\"contour\",\"colorbar\":{\"outlinewidth\":0,\"ticks\":\"\"},\"colorscale\":[[0.0,\"#0d0887\"],[0.1111111111111111,\"#46039f\"],[0.2222222222222222,\"#7201a8\"],[0.3333333333333333,\"#9c179e\"],[0.4444444444444444,\"#bd3786\"],[0.5555555555555556,\"#d8576b\"],[0.6666666666666666,\"#ed7953\"],[0.7777777777777778,\"#fb9f3a\"],[0.8888888888888888,\"#fdca26\"],[1.0,\"#f0f921\"]]}],\"surface\":[{\"type\":\"surface\",\"colorbar\":{\"outlinewidth\":0,\"ticks\":\"\"},\"colorscale\":[[0.0,\"#0d0887\"],[0.1111111111111111,\"#46039f\"],[0.2222222222222222,\"#7201a8\"],[0.3333333333333333,\"#9c179e\"],[0.4444444444444444,\"#bd3786\"],[0.5555555555555556,\"#d8576b\"],[0.6666666666666666,\"#ed7953\"],[0.7777777777777778,\"#fb9f3a\"],[0.8888888888888888,\"#fdca26\"],[1.0,\"#f0f921\"]]}],\"mesh3d\":[{\"type\":\"mesh3d\",\"colorbar\":{\"outlinewidth\":0,\"ticks\":\"\"}}],\"scatter\":[{\"fillpattern\":{\"fillmode\":\"overlay\",\"size\":10,\"solidity\":0.2},\"type\":\"scatter\"}],\"parcoords\":[{\"type\":\"parcoords\",\"line\":{\"colorbar\":{\"outlinewidth\":0,\"ticks\":\"\"}}}],\"scatterpolargl\":[{\"type\":\"scatterpolargl\",\"marker\":{\"colorbar\":{\"outlinewidth\":0,\"ticks\":\"\"}}}],\"bar\":[{\"error_x\":{\"color\":\"#2a3f5f\"},\"error_y\":{\"color\":\"#2a3f5f\"},\"marker\":{\"line\":{\"color\":\"#E5ECF6\",\"width\":0.5},\"pattern\":{\"fillmode\":\"overlay\",\"size\":10,\"solidity\":0.2}},\"type\":\"bar\"}],\"scattergeo\":[{\"type\":\"scattergeo\",\"marker\":{\"colorbar\":{\"outlinewidth\":0,\"ticks\":\"\"}}}],\"scatterpolar\":[{\"type\":\"scatterpolar\",\"marker\":{\"colorbar\":{\"outlinewidth\":0,\"ticks\":\"\"}}}],\"histogram\":[{\"marker\":{\"pattern\":{\"fillmode\":\"overlay\",\"size\":10,\"solidity\":0.2}},\"type\":\"histogram\"}],\"scattergl\":[{\"type\":\"scattergl\",\"marker\":{\"colorbar\":{\"outlinewidth\":0,\"ticks\":\"\"}}}],\"scatter3d\":[{\"type\":\"scatter3d\",\"line\":{\"colorbar\":{\"outlinewidth\":0,\"ticks\":\"\"}},\"marker\":{\"colorbar\":{\"outlinewidth\":0,\"ticks\":\"\"}}}],\"scattermapbox\":[{\"type\":\"scattermapbox\",\"marker\":{\"colorbar\":{\"outlinewidth\":0,\"ticks\":\"\"}}}],\"scatterternary\":[{\"type\":\"scatterternary\",\"marker\":{\"colorbar\":{\"outlinewidth\":0,\"ticks\":\"\"}}}],\"scattercarpet\":[{\"type\":\"scattercarpet\",\"marker\":{\"colorbar\":{\"outlinewidth\":0,\"ticks\":\"\"}}}],\"carpet\":[{\"aaxis\":{\"endlinecolor\":\"#2a3f5f\",\"gridcolor\":\"white\",\"linecolor\":\"white\",\"minorgridcolor\":\"white\",\"startlinecolor\":\"#2a3f5f\"},\"baxis\":{\"endlinecolor\":\"#2a3f5f\",\"gridcolor\":\"white\",\"linecolor\":\"white\",\"minorgridcolor\":\"white\",\"startlinecolor\":\"#2a3f5f\"},\"type\":\"carpet\"}],\"table\":[{\"cells\":{\"fill\":{\"color\":\"#EBF0F8\"},\"line\":{\"color\":\"white\"}},\"header\":{\"fill\":{\"color\":\"#C8D4E3\"},\"line\":{\"color\":\"white\"}},\"type\":\"table\"}],\"barpolar\":[{\"marker\":{\"line\":{\"color\":\"#E5ECF6\",\"width\":0.5},\"pattern\":{\"fillmode\":\"overlay\",\"size\":10,\"solidity\":0.2}},\"type\":\"barpolar\"}],\"pie\":[{\"automargin\":true,\"type\":\"pie\"}]},\"layout\":{\"autotypenumbers\":\"strict\",\"colorway\":[\"#636efa\",\"#EF553B\",\"#00cc96\",\"#ab63fa\",\"#FFA15A\",\"#19d3f3\",\"#FF6692\",\"#B6E880\",\"#FF97FF\",\"#FECB52\"],\"font\":{\"color\":\"#2a3f5f\"},\"hovermode\":\"closest\",\"hoverlabel\":{\"align\":\"left\"},\"paper_bgcolor\":\"white\",\"plot_bgcolor\":\"#E5ECF6\",\"polar\":{\"bgcolor\":\"#E5ECF6\",\"angularaxis\":{\"gridcolor\":\"white\",\"linecolor\":\"white\",\"ticks\":\"\"},\"radialaxis\":{\"gridcolor\":\"white\",\"linecolor\":\"white\",\"ticks\":\"\"}},\"ternary\":{\"bgcolor\":\"#E5ECF6\",\"aaxis\":{\"gridcolor\":\"white\",\"linecolor\":\"white\",\"ticks\":\"\"},\"baxis\":{\"gridcolor\":\"white\",\"linecolor\":\"white\",\"ticks\":\"\"},\"caxis\":{\"gridcolor\":\"white\",\"linecolor\":\"white\",\"ticks\":\"\"}},\"coloraxis\":{\"colorbar\":{\"outlinewidth\":0,\"ticks\":\"\"}},\"colorscale\":{\"sequential\":[[0.0,\"#0d0887\"],[0.1111111111111111,\"#46039f\"],[0.2222222222222222,\"#7201a8\"],[0.3333333333333333,\"#9c179e\"],[0.4444444444444444,\"#bd3786\"],[0.5555555555555556,\"#d8576b\"],[0.6666666666666666,\"#ed7953\"],[0.7777777777777778,\"#fb9f3a\"],[0.8888888888888888,\"#fdca26\"],[1.0,\"#f0f921\"]],\"sequentialminus\":[[0.0,\"#0d0887\"],[0.1111111111111111,\"#46039f\"],[0.2222222222222222,\"#7201a8\"],[0.3333333333333333,\"#9c179e\"],[0.4444444444444444,\"#bd3786\"],[0.5555555555555556,\"#d8576b\"],[0.6666666666666666,\"#ed7953\"],[0.7777777777777778,\"#fb9f3a\"],[0.8888888888888888,\"#fdca26\"],[1.0,\"#f0f921\"]],\"diverging\":[[0,\"#8e0152\"],[0.1,\"#c51b7d\"],[0.2,\"#de77ae\"],[0.3,\"#f1b6da\"],[0.4,\"#fde0ef\"],[0.5,\"#f7f7f7\"],[0.6,\"#e6f5d0\"],[0.7,\"#b8e186\"],[0.8,\"#7fbc41\"],[0.9,\"#4d9221\"],[1,\"#276419\"]]},\"xaxis\":{\"gridcolor\":\"white\",\"linecolor\":\"white\",\"ticks\":\"\",\"title\":{\"standoff\":15},\"zerolinecolor\":\"white\",\"automargin\":true,\"zerolinewidth\":2},\"yaxis\":{\"gridcolor\":\"white\",\"linecolor\":\"white\",\"ticks\":\"\",\"title\":{\"standoff\":15},\"zerolinecolor\":\"white\",\"automargin\":true,\"zerolinewidth\":2},\"scene\":{\"xaxis\":{\"backgroundcolor\":\"#E5ECF6\",\"gridcolor\":\"white\",\"linecolor\":\"white\",\"showbackground\":true,\"ticks\":\"\",\"zerolinecolor\":\"white\",\"gridwidth\":2},\"yaxis\":{\"backgroundcolor\":\"#E5ECF6\",\"gridcolor\":\"white\",\"linecolor\":\"white\",\"showbackground\":true,\"ticks\":\"\",\"zerolinecolor\":\"white\",\"gridwidth\":2},\"zaxis\":{\"backgroundcolor\":\"#E5ECF6\",\"gridcolor\":\"white\",\"linecolor\":\"white\",\"showbackground\":true,\"ticks\":\"\",\"zerolinecolor\":\"white\",\"gridwidth\":2}},\"shapedefaults\":{\"line\":{\"color\":\"#2a3f5f\"}},\"annotationdefaults\":{\"arrowcolor\":\"#2a3f5f\",\"arrowhead\":0,\"arrowwidth\":1},\"geo\":{\"bgcolor\":\"white\",\"landcolor\":\"#E5ECF6\",\"subunitcolor\":\"white\",\"showland\":true,\"showlakes\":true,\"lakecolor\":\"white\"},\"title\":{\"x\":0.05},\"mapbox\":{\"style\":\"light\"}}},\"xaxis\":{\"anchor\":\"y\",\"domain\":[0.0,1.0],\"title\":{\"text\":\"x\"}},\"yaxis\":{\"anchor\":\"x\",\"domain\":[0.0,1.0],\"title\":{\"text\":\"y\"}},\"legend\":{\"tracegroupgap\":0},\"margin\":{\"t\":60},\"title\":{\"text\":\"Visualisation of words using t-SNE algorithm\"},\"height\":800},                        {\"responsive\": true}                    ).then(function(){\n                            \nvar gd = document.getElementById('55d6c1ae-ab21-4287-8fea-276833054a6d');\nvar x = new MutationObserver(function (mutations, observer) {{\n        var display = window.getComputedStyle(gd).display;\n        if (!display || display === 'none') {{\n            console.log([gd, 'removed!']);\n            Plotly.purge(gd);\n            observer.disconnect();\n        }}\n}});\n\n// Listen for the removal of the full notebook cells\nvar notebookContainer = gd.closest('#notebook-container');\nif (notebookContainer) {{\n    x.observe(notebookContainer, {childList: true});\n}}\n\n// Listen for the clearing of the current output cell\nvar outputEl = gd.closest('.output');\nif (outputEl) {{\n    x.observe(outputEl, {childList: true});\n}}\n\n                        })                };                });            </script>        </div>"
     },
     "metadata": {},
     "output_type": "display_data"
    }
   ],
   "source": [
    "df_embeddings_plot = df_embeddings_transformed.sample(50, replace=False)\n",
    "\n",
    "fig = px.scatter(df_embeddings_plot, x='x', y='y', text=df_embeddings_plot.index)\n",
    "fig.update_layout(\n",
    "    height=800,\n",
    "    title_text='Visualisation of words using t-SNE algorithm'\n",
    ")\n",
    "fig.update_traces(textposition='top center')\n",
    "fig.show()"
   ],
   "metadata": {
    "collapsed": false
   }
  },
  {
   "cell_type": "markdown",
   "source": [
    "# Find similar words"
   ],
   "metadata": {
    "collapsed": false
   }
  },
  {
   "cell_type": "code",
   "execution_count": 15,
   "outputs": [],
   "source": [
    "def get_embedding(df_embeddings, vocab, word: str) -> str:\n",
    "    return df_embeddings.loc[vocab.get_stoi()[word]]"
   ],
   "metadata": {
    "collapsed": false
   }
  },
  {
   "cell_type": "code",
   "execution_count": 16,
   "outputs": [],
   "source": [
    "def top_similar_words(df_embeddings: pd.DataFrame, word: str | list[float], vocab = None, n: int = 10) -> dict[str, float]:\n",
    "    if isinstance(word, str):\n",
    "        word_id = vocab[word]\n",
    "        word_vec = df_embeddings.loc[word_id]\n",
    "    else:\n",
    "        word_id = -1\n",
    "        word_vec = word\n",
    "    distances = df_embeddings.apply(lambda embed: np.matmul(word_vec, embed), axis=1)\n",
    "    if isinstance(word, str):\n",
    "        distances = distances.drop(word_id)\n",
    "    similar_distances = distances.sort_values(ascending=False).iloc[:n]\n",
    "    return {vocab.get_itos()[id]: similar_distances[id] for id in similar_distances.index}"
   ],
   "metadata": {
    "collapsed": false
   }
  },
  {
   "cell_type": "code",
   "execution_count": 17,
   "outputs": [
    {
     "data": {
      "text/plain": "{'wasn': 1.0163375,\n 'doesn': 0.9734401,\n 'think': 0.9618387,\n 'got': 0.95153177,\n 'want': 0.9223029,\n 'feel': 0.9200848,\n 'do': 0.8937379,\n 'didn': 0.8842744,\n 'don': 0.88322556,\n 'really': 0.8814473}"
     },
     "execution_count": 17,
     "metadata": {},
     "output_type": "execute_result"
    }
   ],
   "source": [
    "top_similar_words(df_embeddings, 'know', vocab, n=10)"
   ],
   "metadata": {
    "collapsed": false
   }
  },
  {
   "cell_type": "markdown",
   "source": [
    "# Vector equations"
   ],
   "metadata": {
    "collapsed": false
   }
  },
  {
   "cell_type": "code",
   "execution_count": 18,
   "outputs": [],
   "source": [
    "embed_1 = get_embedding(df_embeddings, vocab, 'man')\n",
    "embed_2 = get_embedding(df_embeddings, vocab, 'woman')\n",
    "embed_3 = get_embedding(df_embeddings, vocab, 'king')\n",
    "embed_4 = embed_3 - embed_1 + embed_2"
   ],
   "metadata": {
    "collapsed": false
   }
  },
  {
   "cell_type": "code",
   "execution_count": 19,
   "outputs": [
    {
     "data": {
      "text/plain": "{'king': 1.0568279,\n 'st': 0.95331234,\n 'castle': 0.9513191,\n 'bishop': 0.94327086,\n 'aftermath': 0.9377484,\n 'mary': 0.9267597,\n 'image': 0.9262364,\n 'reign': 0.909544,\n 'church': 0.90753704,\n 'regime': 0.9028273}"
     },
     "execution_count": 19,
     "metadata": {},
     "output_type": "execute_result"
    }
   ],
   "source": [
    "top_n = top_similar_words(df_embeddings, embed_4, vocab, n=10)\n",
    "top_n"
   ],
   "metadata": {
    "collapsed": false
   }
  }
 ],
 "metadata": {
  "kernelspec": {
   "display_name": "Python 3",
   "language": "python",
   "name": "python3"
  },
  "language_info": {
   "codemirror_mode": {
    "name": "ipython",
    "version": 2
   },
   "file_extension": ".py",
   "mimetype": "text/x-python",
   "name": "python",
   "nbconvert_exporter": "python",
   "pygments_lexer": "ipython2",
   "version": "2.7.6"
  }
 },
 "nbformat": 4,
 "nbformat_minor": 0
}
